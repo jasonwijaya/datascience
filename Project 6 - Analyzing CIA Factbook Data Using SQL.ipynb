{
 "cells": [
  {
   "cell_type": "markdown",
   "id": "a64661a8-ca63-49e4-ab46-7f15c2474b0a",
   "metadata": {},
   "source": [
    "# Guided Project: Analyzing CIA Factbook Data Using SQL"
   ]
  },
  {
   "cell_type": "markdown",
   "id": "6f35b3ea-2ca2-4595-8e84-6493d280eb54",
   "metadata": {},
   "source": [
    "## Introduction"
   ]
  },
  {
   "cell_type": "markdown",
   "id": "ba672d43-9b45-4741-a7ac-489a1f8679be",
   "metadata": {},
   "source": [
    "In this project, we'll work with data from the CIA World Factbook, a compendium of statistics about all of the countries on Earth. The Factbook contains demographic information like the following:\n",
    "\n",
    "* `area` — the total land and sea area of the country.\n",
    "* `population` — the country's population.\n",
    "* `population_growth`— the country's population growth as a percentage.\n",
    "\n",
    "We'll use the following code to connect our Jupyter Notebook to our database file:"
   ]
  },
  {
   "cell_type": "code",
   "execution_count": 1,
   "id": "985ff157-16a7-42bb-becf-7f1a635df6fb",
   "metadata": {},
   "outputs": [
    {
     "data": {
      "text/plain": [
       "'Connected: @factbook.db'"
      ]
     },
     "execution_count": 1,
     "metadata": {},
     "output_type": "execute_result"
    }
   ],
   "source": [
    "%reload_ext sql\n",
    "%sql sqlite:///factbook.db"
   ]
  },
  {
   "cell_type": "code",
   "execution_count": 2,
   "id": "2e2d6edc-1743-4ad5-a135-785ff76e6d4e",
   "metadata": {},
   "outputs": [
    {
     "name": "stdout",
     "output_type": "stream",
     "text": [
      " * sqlite:///factbook.db\n",
      "Done.\n"
     ]
    },
    {
     "data": {
      "text/html": [
       "<table>\n",
       "    <thead>\n",
       "        <tr>\n",
       "            <th>type</th>\n",
       "            <th>name</th>\n",
       "            <th>tbl_name</th>\n",
       "            <th>rootpage</th>\n",
       "            <th>sql</th>\n",
       "        </tr>\n",
       "    </thead>\n",
       "    <tbody>\n",
       "        <tr>\n",
       "            <td>table</td>\n",
       "            <td>sqlite_sequence</td>\n",
       "            <td>sqlite_sequence</td>\n",
       "            <td>3</td>\n",
       "            <td>CREATE TABLE sqlite_sequence(name,seq)</td>\n",
       "        </tr>\n",
       "        <tr>\n",
       "            <td>table</td>\n",
       "            <td>facts</td>\n",
       "            <td>facts</td>\n",
       "            <td>47</td>\n",
       "            <td>CREATE TABLE &quot;facts&quot; (&quot;id&quot; INTEGER PRIMARY KEY AUTOINCREMENT NOT NULL, &quot;code&quot; varchar(255) NOT NULL, &quot;name&quot; varchar(255) NOT NULL, &quot;area&quot; integer, &quot;area_land&quot; integer, &quot;area_water&quot; integer, &quot;population&quot; integer, &quot;population_growth&quot; float, &quot;birth_rate&quot; float, &quot;death_rate&quot; float, &quot;migration_rate&quot; float)</td>\n",
       "        </tr>\n",
       "    </tbody>\n",
       "</table>"
      ],
      "text/plain": [
       "[('table', 'sqlite_sequence', 'sqlite_sequence', 3, 'CREATE TABLE sqlite_sequence(name,seq)'),\n",
       " ('table', 'facts', 'facts', 47, 'CREATE TABLE \"facts\" (\"id\" INTEGER PRIMARY KEY AUTOINCREMENT NOT NULL, \"code\" varchar(255) NOT NULL, \"name\" varchar(255) NOT NULL, \"area\" integer, \"a ... (4 characters truncated) ... land\" integer, \"area_water\" integer, \"population\" integer, \"population_growth\" float, \"birth_rate\" float, \"death_rate\" float, \"migration_rate\" float)')]"
      ]
     },
     "execution_count": 2,
     "metadata": {},
     "output_type": "execute_result"
    }
   ],
   "source": [
    "# Query the database\n",
    "%sql SELECT * FROM sqlite_master WHERE type='table';"
   ]
  },
  {
   "cell_type": "code",
   "execution_count": 3,
   "id": "8080971a-0813-46e6-b8ec-abc059384534",
   "metadata": {},
   "outputs": [
    {
     "name": "stdout",
     "output_type": "stream",
     "text": [
      " * sqlite:///factbook.db\n",
      "Done.\n"
     ]
    },
    {
     "data": {
      "text/html": [
       "<table>\n",
       "    <thead>\n",
       "        <tr>\n",
       "            <th>id</th>\n",
       "            <th>code</th>\n",
       "            <th>name</th>\n",
       "            <th>area</th>\n",
       "            <th>area_land</th>\n",
       "            <th>area_water</th>\n",
       "            <th>population</th>\n",
       "            <th>population_growth</th>\n",
       "            <th>birth_rate</th>\n",
       "            <th>death_rate</th>\n",
       "            <th>migration_rate</th>\n",
       "        </tr>\n",
       "    </thead>\n",
       "    <tbody>\n",
       "        <tr>\n",
       "            <td>1</td>\n",
       "            <td>af</td>\n",
       "            <td>Afghanistan</td>\n",
       "            <td>652230</td>\n",
       "            <td>652230</td>\n",
       "            <td>0</td>\n",
       "            <td>32564342</td>\n",
       "            <td>2.32</td>\n",
       "            <td>38.57</td>\n",
       "            <td>13.89</td>\n",
       "            <td>1.51</td>\n",
       "        </tr>\n",
       "        <tr>\n",
       "            <td>2</td>\n",
       "            <td>al</td>\n",
       "            <td>Albania</td>\n",
       "            <td>28748</td>\n",
       "            <td>27398</td>\n",
       "            <td>1350</td>\n",
       "            <td>3029278</td>\n",
       "            <td>0.3</td>\n",
       "            <td>12.92</td>\n",
       "            <td>6.58</td>\n",
       "            <td>3.3</td>\n",
       "        </tr>\n",
       "        <tr>\n",
       "            <td>3</td>\n",
       "            <td>ag</td>\n",
       "            <td>Algeria</td>\n",
       "            <td>2381741</td>\n",
       "            <td>2381741</td>\n",
       "            <td>0</td>\n",
       "            <td>39542166</td>\n",
       "            <td>1.84</td>\n",
       "            <td>23.67</td>\n",
       "            <td>4.31</td>\n",
       "            <td>0.92</td>\n",
       "        </tr>\n",
       "        <tr>\n",
       "            <td>4</td>\n",
       "            <td>an</td>\n",
       "            <td>Andorra</td>\n",
       "            <td>468</td>\n",
       "            <td>468</td>\n",
       "            <td>0</td>\n",
       "            <td>85580</td>\n",
       "            <td>0.12</td>\n",
       "            <td>8.13</td>\n",
       "            <td>6.96</td>\n",
       "            <td>0.0</td>\n",
       "        </tr>\n",
       "        <tr>\n",
       "            <td>5</td>\n",
       "            <td>ao</td>\n",
       "            <td>Angola</td>\n",
       "            <td>1246700</td>\n",
       "            <td>1246700</td>\n",
       "            <td>0</td>\n",
       "            <td>19625353</td>\n",
       "            <td>2.78</td>\n",
       "            <td>38.78</td>\n",
       "            <td>11.49</td>\n",
       "            <td>0.46</td>\n",
       "        </tr>\n",
       "    </tbody>\n",
       "</table>"
      ],
      "text/plain": [
       "[(1, 'af', 'Afghanistan', 652230, 652230, 0, 32564342, 2.32, 38.57, 13.89, 1.51),\n",
       " (2, 'al', 'Albania', 28748, 27398, 1350, 3029278, 0.3, 12.92, 6.58, 3.3),\n",
       " (3, 'ag', 'Algeria', 2381741, 2381741, 0, 39542166, 1.84, 23.67, 4.31, 0.92),\n",
       " (4, 'an', 'Andorra', 468, 468, 0, 85580, 0.12, 8.13, 6.96, 0.0),\n",
       " (5, 'ao', 'Angola', 1246700, 1246700, 0, 19625353, 2.78, 38.78, 11.49, 0.46)]"
      ]
     },
     "execution_count": 3,
     "metadata": {},
     "output_type": "execute_result"
    }
   ],
   "source": [
    "# Select the first five rows of the facts table\n",
    "%sql SELECT * FROM facts LIMIT 5;"
   ]
  },
  {
   "cell_type": "markdown",
   "id": "6e5f8533-e19e-4890-8c5e-661713383993",
   "metadata": {},
   "source": [
    "## Summary Statistics"
   ]
  },
  {
   "cell_type": "markdown",
   "id": "d425d765-f086-4dca-8e86-3084ddede849",
   "metadata": {},
   "source": [
    "Here are the descriptions for some of the columns:\n",
    "\n",
    "* `name` — the name of the country.\n",
    "* `area` — the total land and sea area of the country.\n",
    "* `population` — the country's population.\n",
    "* `population_growth`— the country's population growth as a percentage.\n",
    "* `birth_rate` — the country's birth rate, or the number of births a year per 1,000 people.\n",
    "* `death_rate` — the country's death rate, or the number of death a year per 1,000 people.\n",
    "* `area`— the country's total area (both land and water).\n",
    "* `area_land` — the country's land area in [square kilometers](https://www.cia.gov/library/publications/the-world-factbook/rankorder/2147rank.html).\n",
    "* `area_water` — the country's water area in square kilometers.\n",
    "\n",
    "Let's write a single query that returns the following:\n",
    "\n",
    "* Minimum population\n",
    "* Maximum population\n",
    "* Minimum population growth\n",
    "* Maximum population growth"
   ]
  },
  {
   "cell_type": "code",
   "execution_count": 4,
   "id": "25327e4e-baef-4194-8858-2868f5f0e795",
   "metadata": {},
   "outputs": [
    {
     "name": "stdout",
     "output_type": "stream",
     "text": [
      " * sqlite:///factbook.db\n",
      "Done.\n"
     ]
    },
    {
     "data": {
      "text/html": [
       "<table>\n",
       "    <thead>\n",
       "        <tr>\n",
       "            <th>min_pop</th>\n",
       "            <th>max_pop</th>\n",
       "            <th>min_pop_growth</th>\n",
       "            <th>max_pop_growth</th>\n",
       "        </tr>\n",
       "    </thead>\n",
       "    <tbody>\n",
       "        <tr>\n",
       "            <td>0</td>\n",
       "            <td>7256490011</td>\n",
       "            <td>0.0</td>\n",
       "            <td>4.02</td>\n",
       "        </tr>\n",
       "    </tbody>\n",
       "</table>"
      ],
      "text/plain": [
       "[(0, 7256490011, 0.0, 4.02)]"
      ]
     },
     "execution_count": 4,
     "metadata": {},
     "output_type": "execute_result"
    }
   ],
   "source": [
    "# Write a single query that returns the data above\n",
    "%sql SELECT MIN(population) AS min_pop, MAX(population) AS max_pop, MIN(population_growth) AS min_pop_growth, MAX(population_growth) AS max_pop_growth FROM facts;"
   ]
  },
  {
   "cell_type": "markdown",
   "id": "d9a53442-5b76-4d8e-acf3-a250fa215840",
   "metadata": {},
   "source": [
    "## Exploring Outliers"
   ]
  },
  {
   "cell_type": "markdown",
   "id": "d5bfbb71-b123-4d5a-95e2-2e54987990c3",
   "metadata": {},
   "source": [
    "We see a few interesting things in the summary statistics on the previous screen:\n",
    "\n",
    "* There's a country with a population of `0`\n",
    "* There's a country with a population of `7256490011` (or more than 7.2 billion people)\n",
    "\n",
    "Let's use subqueries to zoom in on just these countries without using the specific values."
   ]
  },
  {
   "cell_type": "code",
   "execution_count": 5,
   "id": "33c8536c-4e24-41b8-9ddd-16b4bcbfb9ac",
   "metadata": {},
   "outputs": [
    {
     "name": "stdout",
     "output_type": "stream",
     "text": [
      " * sqlite:///factbook.db\n",
      "Done.\n"
     ]
    },
    {
     "data": {
      "text/html": [
       "<table>\n",
       "    <thead>\n",
       "        <tr>\n",
       "            <th>id</th>\n",
       "            <th>code</th>\n",
       "            <th>name</th>\n",
       "            <th>area</th>\n",
       "            <th>area_land</th>\n",
       "            <th>area_water</th>\n",
       "            <th>population</th>\n",
       "            <th>population_growth</th>\n",
       "            <th>birth_rate</th>\n",
       "            <th>death_rate</th>\n",
       "            <th>migration_rate</th>\n",
       "        </tr>\n",
       "    </thead>\n",
       "    <tbody>\n",
       "        <tr>\n",
       "            <td>250</td>\n",
       "            <td>ay</td>\n",
       "            <td>Antarctica</td>\n",
       "            <td>None</td>\n",
       "            <td>280000</td>\n",
       "            <td>None</td>\n",
       "            <td>0</td>\n",
       "            <td>None</td>\n",
       "            <td>None</td>\n",
       "            <td>None</td>\n",
       "            <td>None</td>\n",
       "        </tr>\n",
       "    </tbody>\n",
       "</table>"
      ],
      "text/plain": [
       "[(250, 'ay', 'Antarctica', None, 280000, None, 0, None, None, None, None)]"
      ]
     },
     "execution_count": 5,
     "metadata": {},
     "output_type": "execute_result"
    }
   ],
   "source": [
    "# Select a country with the minimum population\n",
    "%sql SELECT * FROM facts WHERE population == (SELECT MIN(population) FROM facts);"
   ]
  },
  {
   "cell_type": "code",
   "execution_count": 6,
   "id": "05115ba0-a00f-4485-bd56-d30c5c95b494",
   "metadata": {},
   "outputs": [
    {
     "name": "stdout",
     "output_type": "stream",
     "text": [
      " * sqlite:///factbook.db\n",
      "Done.\n"
     ]
    },
    {
     "data": {
      "text/html": [
       "<table>\n",
       "    <thead>\n",
       "        <tr>\n",
       "            <th>id</th>\n",
       "            <th>code</th>\n",
       "            <th>name</th>\n",
       "            <th>area</th>\n",
       "            <th>area_land</th>\n",
       "            <th>area_water</th>\n",
       "            <th>population</th>\n",
       "            <th>population_growth</th>\n",
       "            <th>birth_rate</th>\n",
       "            <th>death_rate</th>\n",
       "            <th>migration_rate</th>\n",
       "        </tr>\n",
       "    </thead>\n",
       "    <tbody>\n",
       "        <tr>\n",
       "            <td>261</td>\n",
       "            <td>xx</td>\n",
       "            <td>World</td>\n",
       "            <td>None</td>\n",
       "            <td>None</td>\n",
       "            <td>None</td>\n",
       "            <td>7256490011</td>\n",
       "            <td>1.08</td>\n",
       "            <td>18.6</td>\n",
       "            <td>7.8</td>\n",
       "            <td>None</td>\n",
       "        </tr>\n",
       "    </tbody>\n",
       "</table>"
      ],
      "text/plain": [
       "[(261, 'xx', 'World', None, None, None, 7256490011, 1.08, 18.6, 7.8, None)]"
      ]
     },
     "execution_count": 6,
     "metadata": {},
     "output_type": "execute_result"
    }
   ],
   "source": [
    "# Select a country with the maximum population\n",
    "%sql SELECT * FROM facts WHERE population == (SELECT MAX(population) FROM facts);"
   ]
  },
  {
   "cell_type": "markdown",
   "id": "f250351e-f39c-4a13-b44a-c80ddeeb098f",
   "metadata": {},
   "source": [
    "## Exploring Average Population and Area"
   ]
  },
  {
   "cell_type": "markdown",
   "id": "ad589aba-81f3-4194-a15b-dd4d90fb7692",
   "metadata": {},
   "source": [
    "Since the maximum value refers to the world, we should recalculate the maximum value excluding the row for the whole world."
   ]
  },
  {
   "cell_type": "code",
   "execution_count": 7,
   "id": "cdb413de-7a6d-4b35-9e8f-0695618a65b8",
   "metadata": {},
   "outputs": [
    {
     "name": "stdout",
     "output_type": "stream",
     "text": [
      " * sqlite:///factbook.db\n",
      "Done.\n"
     ]
    },
    {
     "data": {
      "text/html": [
       "<table>\n",
       "    <thead>\n",
       "        <tr>\n",
       "            <th>min_pop</th>\n",
       "            <th>max_pop</th>\n",
       "            <th>min_pop_growth</th>\n",
       "            <th>max_pop_growth</th>\n",
       "        </tr>\n",
       "    </thead>\n",
       "    <tbody>\n",
       "        <tr>\n",
       "            <td>0</td>\n",
       "            <td>1367485388</td>\n",
       "            <td>0.0</td>\n",
       "            <td>4.02</td>\n",
       "        </tr>\n",
       "    </tbody>\n",
       "</table>"
      ],
      "text/plain": [
       "[(0, 1367485388, 0.0, 4.02)]"
      ]
     },
     "execution_count": 7,
     "metadata": {},
     "output_type": "execute_result"
    }
   ],
   "source": [
    "# Recalculate the statistics excluding the row for the whole world\n",
    "%sql SELECT MIN(population) AS min_pop, MAX(population) AS max_pop, MIN(population_growth) AS min_pop_growth, MAX(population_growth) as max_pop_growth FROM facts WHERE name <> 'World';"
   ]
  },
  {
   "cell_type": "code",
   "execution_count": 8,
   "id": "0afa5684-ac8e-43f7-9aa4-eeb2d218c34e",
   "metadata": {},
   "outputs": [
    {
     "name": "stdout",
     "output_type": "stream",
     "text": [
      " * sqlite:///factbook.db\n",
      "Done.\n"
     ]
    },
    {
     "data": {
      "text/html": [
       "<table>\n",
       "    <thead>\n",
       "        <tr>\n",
       "            <th>avg_pop</th>\n",
       "            <th>avg_area</th>\n",
       "        </tr>\n",
       "    </thead>\n",
       "    <tbody>\n",
       "        <tr>\n",
       "            <td>62094928.32231405</td>\n",
       "            <td>555093.546184739</td>\n",
       "        </tr>\n",
       "    </tbody>\n",
       "</table>"
      ],
      "text/plain": [
       "[(62094928.32231405, 555093.546184739)]"
      ]
     },
     "execution_count": 8,
     "metadata": {},
     "output_type": "execute_result"
    }
   ],
   "source": [
    "# Calculate the average value for population and area\n",
    "%sql SELECT AVG(population) AS avg_pop, AVG(area) AS avg_area FROM facts;"
   ]
  },
  {
   "cell_type": "markdown",
   "id": "6507502c-bff1-4ad9-a132-9991bcd33c13",
   "metadata": {},
   "source": [
    "## Finding Densely Populated Countries"
   ]
  },
  {
   "cell_type": "markdown",
   "id": "cd336ef7-aad8-4197-a1a8-e25503d41d83",
   "metadata": {},
   "source": [
    "To finish, we'll build on the query we wrote for the previous screen to find countries that are densely populated. We'll identify countries that have the following:\n",
    "\n",
    "* Above-average values for population\n",
    "* Below-average values for area"
   ]
  },
  {
   "cell_type": "code",
   "execution_count": 9,
   "id": "1d7bca4b-239c-4008-b824-b015d2ce7831",
   "metadata": {},
   "outputs": [
    {
     "name": "stdout",
     "output_type": "stream",
     "text": [
      " * sqlite:///factbook.db\n",
      "Done.\n"
     ]
    },
    {
     "data": {
      "text/html": [
       "<table>\n",
       "    <thead>\n",
       "        <tr>\n",
       "            <th>id</th>\n",
       "            <th>code</th>\n",
       "            <th>name</th>\n",
       "            <th>area</th>\n",
       "            <th>area_land</th>\n",
       "            <th>area_water</th>\n",
       "            <th>population</th>\n",
       "            <th>population_growth</th>\n",
       "            <th>birth_rate</th>\n",
       "            <th>death_rate</th>\n",
       "            <th>migration_rate</th>\n",
       "        </tr>\n",
       "    </thead>\n",
       "    <tbody>\n",
       "        <tr>\n",
       "            <td>14</td>\n",
       "            <td>bg</td>\n",
       "            <td>Bangladesh</td>\n",
       "            <td>148460</td>\n",
       "            <td>130170</td>\n",
       "            <td>18290</td>\n",
       "            <td>168957745</td>\n",
       "            <td>1.6</td>\n",
       "            <td>21.14</td>\n",
       "            <td>5.61</td>\n",
       "            <td>0.46</td>\n",
       "        </tr>\n",
       "        <tr>\n",
       "            <td>65</td>\n",
       "            <td>gm</td>\n",
       "            <td>Germany</td>\n",
       "            <td>357022</td>\n",
       "            <td>348672</td>\n",
       "            <td>8350</td>\n",
       "            <td>80854408</td>\n",
       "            <td>0.17</td>\n",
       "            <td>8.47</td>\n",
       "            <td>11.42</td>\n",
       "            <td>1.24</td>\n",
       "        </tr>\n",
       "        <tr>\n",
       "            <td>80</td>\n",
       "            <td>iz</td>\n",
       "            <td>Iraq</td>\n",
       "            <td>438317</td>\n",
       "            <td>437367</td>\n",
       "            <td>950</td>\n",
       "            <td>37056169</td>\n",
       "            <td>2.93</td>\n",
       "            <td>31.45</td>\n",
       "            <td>3.77</td>\n",
       "            <td>1.62</td>\n",
       "        </tr>\n",
       "        <tr>\n",
       "            <td>83</td>\n",
       "            <td>it</td>\n",
       "            <td>Italy</td>\n",
       "            <td>301340</td>\n",
       "            <td>294140</td>\n",
       "            <td>7200</td>\n",
       "            <td>61855120</td>\n",
       "            <td>0.27</td>\n",
       "            <td>8.74</td>\n",
       "            <td>10.19</td>\n",
       "            <td>4.1</td>\n",
       "        </tr>\n",
       "        <tr>\n",
       "            <td>85</td>\n",
       "            <td>ja</td>\n",
       "            <td>Japan</td>\n",
       "            <td>377915</td>\n",
       "            <td>364485</td>\n",
       "            <td>13430</td>\n",
       "            <td>126919659</td>\n",
       "            <td>0.16</td>\n",
       "            <td>7.93</td>\n",
       "            <td>9.51</td>\n",
       "            <td>0.0</td>\n",
       "        </tr>\n",
       "        <tr>\n",
       "            <td>91</td>\n",
       "            <td>ks</td>\n",
       "            <td>Korea, South</td>\n",
       "            <td>99720</td>\n",
       "            <td>96920</td>\n",
       "            <td>2800</td>\n",
       "            <td>49115196</td>\n",
       "            <td>0.14</td>\n",
       "            <td>8.19</td>\n",
       "            <td>6.75</td>\n",
       "            <td>0.0</td>\n",
       "        </tr>\n",
       "        <tr>\n",
       "            <td>120</td>\n",
       "            <td>mo</td>\n",
       "            <td>Morocco</td>\n",
       "            <td>446550</td>\n",
       "            <td>446300</td>\n",
       "            <td>250</td>\n",
       "            <td>33322699</td>\n",
       "            <td>1.0</td>\n",
       "            <td>18.2</td>\n",
       "            <td>4.81</td>\n",
       "            <td>3.36</td>\n",
       "        </tr>\n",
       "        <tr>\n",
       "            <td>138</td>\n",
       "            <td>rp</td>\n",
       "            <td>Philippines</td>\n",
       "            <td>300000</td>\n",
       "            <td>298170</td>\n",
       "            <td>1830</td>\n",
       "            <td>100998376</td>\n",
       "            <td>1.61</td>\n",
       "            <td>24.27</td>\n",
       "            <td>6.11</td>\n",
       "            <td>2.09</td>\n",
       "        </tr>\n",
       "        <tr>\n",
       "            <td>139</td>\n",
       "            <td>pl</td>\n",
       "            <td>Poland</td>\n",
       "            <td>312685</td>\n",
       "            <td>304255</td>\n",
       "            <td>8430</td>\n",
       "            <td>38562189</td>\n",
       "            <td>0.09</td>\n",
       "            <td>9.74</td>\n",
       "            <td>10.19</td>\n",
       "            <td>0.46</td>\n",
       "        </tr>\n",
       "        <tr>\n",
       "            <td>163</td>\n",
       "            <td>sp</td>\n",
       "            <td>Spain</td>\n",
       "            <td>505370</td>\n",
       "            <td>498980</td>\n",
       "            <td>6390</td>\n",
       "            <td>48146134</td>\n",
       "            <td>0.89</td>\n",
       "            <td>9.64</td>\n",
       "            <td>9.04</td>\n",
       "            <td>8.31</td>\n",
       "        </tr>\n",
       "        <tr>\n",
       "            <td>173</td>\n",
       "            <td>th</td>\n",
       "            <td>Thailand</td>\n",
       "            <td>513120</td>\n",
       "            <td>510890</td>\n",
       "            <td>2230</td>\n",
       "            <td>67976405</td>\n",
       "            <td>0.34</td>\n",
       "            <td>11.19</td>\n",
       "            <td>7.8</td>\n",
       "            <td>0.0</td>\n",
       "        </tr>\n",
       "        <tr>\n",
       "            <td>182</td>\n",
       "            <td>ug</td>\n",
       "            <td>Uganda</td>\n",
       "            <td>241038</td>\n",
       "            <td>197100</td>\n",
       "            <td>43938</td>\n",
       "            <td>37101745</td>\n",
       "            <td>3.24</td>\n",
       "            <td>43.79</td>\n",
       "            <td>10.69</td>\n",
       "            <td>0.74</td>\n",
       "        </tr>\n",
       "        <tr>\n",
       "            <td>185</td>\n",
       "            <td>uk</td>\n",
       "            <td>United Kingdom</td>\n",
       "            <td>243610</td>\n",
       "            <td>241930</td>\n",
       "            <td>1680</td>\n",
       "            <td>64088222</td>\n",
       "            <td>0.54</td>\n",
       "            <td>12.17</td>\n",
       "            <td>9.35</td>\n",
       "            <td>2.54</td>\n",
       "        </tr>\n",
       "        <tr>\n",
       "            <td>192</td>\n",
       "            <td>vm</td>\n",
       "            <td>Vietnam</td>\n",
       "            <td>331210</td>\n",
       "            <td>310070</td>\n",
       "            <td>21140</td>\n",
       "            <td>94348835</td>\n",
       "            <td>0.97</td>\n",
       "            <td>15.96</td>\n",
       "            <td>5.93</td>\n",
       "            <td>0.3</td>\n",
       "        </tr>\n",
       "    </tbody>\n",
       "</table>"
      ],
      "text/plain": [
       "[(14, 'bg', 'Bangladesh', 148460, 130170, 18290, 168957745, 1.6, 21.14, 5.61, 0.46),\n",
       " (65, 'gm', 'Germany', 357022, 348672, 8350, 80854408, 0.17, 8.47, 11.42, 1.24),\n",
       " (80, 'iz', 'Iraq', 438317, 437367, 950, 37056169, 2.93, 31.45, 3.77, 1.62),\n",
       " (83, 'it', 'Italy', 301340, 294140, 7200, 61855120, 0.27, 8.74, 10.19, 4.1),\n",
       " (85, 'ja', 'Japan', 377915, 364485, 13430, 126919659, 0.16, 7.93, 9.51, 0.0),\n",
       " (91, 'ks', 'Korea, South', 99720, 96920, 2800, 49115196, 0.14, 8.19, 6.75, 0.0),\n",
       " (120, 'mo', 'Morocco', 446550, 446300, 250, 33322699, 1.0, 18.2, 4.81, 3.36),\n",
       " (138, 'rp', 'Philippines', 300000, 298170, 1830, 100998376, 1.61, 24.27, 6.11, 2.09),\n",
       " (139, 'pl', 'Poland', 312685, 304255, 8430, 38562189, 0.09, 9.74, 10.19, 0.46),\n",
       " (163, 'sp', 'Spain', 505370, 498980, 6390, 48146134, 0.89, 9.64, 9.04, 8.31),\n",
       " (173, 'th', 'Thailand', 513120, 510890, 2230, 67976405, 0.34, 11.19, 7.8, 0.0),\n",
       " (182, 'ug', 'Uganda', 241038, 197100, 43938, 37101745, 3.24, 43.79, 10.69, 0.74),\n",
       " (185, 'uk', 'United Kingdom', 243610, 241930, 1680, 64088222, 0.54, 12.17, 9.35, 2.54),\n",
       " (192, 'vm', 'Vietnam', 331210, 310070, 21140, 94348835, 0.97, 15.96, 5.93, 0.3)]"
      ]
     },
     "execution_count": 9,
     "metadata": {},
     "output_type": "execute_result"
    }
   ],
   "source": [
    "# Finding all countries whose population is above-average but the area is below-average\n",
    "%sql SELECT * FROM facts WHERE population > (SELECT AVG(population) FROM facts WHERE name != 'World') AND area < (SELECT AVG(area) FROM facts WHERE name <> 'World');"
   ]
  },
  {
   "cell_type": "markdown",
   "id": "bd268362-f84f-4189-81a9-9b877de735c6",
   "metadata": {},
   "source": [
    "## Next Steps"
   ]
  },
  {
   "cell_type": "markdown",
   "id": "13a3a472-b790-4d13-ab13-8f510dde47fa",
   "metadata": {},
   "source": [
    "We have several things to explore:\n",
    "\n",
    "* Which country has the most people? Which country has the highest growth rate?\n",
    "* Which countries have the highest ratios of water to land? Which countries have more water than land?\n",
    "* Which countries will add the most people to their populations next year?\n",
    "* Which countries have a higher death rate than birth rate?\n",
    "* Which countries have the highest `population/area` ratio, and how does it compare to list we found in the previous screen?"
   ]
  },
  {
   "cell_type": "code",
   "execution_count": 10,
   "id": "9babc662-c800-4f66-a1c5-e74c9014ad76",
   "metadata": {},
   "outputs": [
    {
     "name": "stdout",
     "output_type": "stream",
     "text": [
      " * sqlite:///factbook.db\n",
      "Done.\n"
     ]
    },
    {
     "data": {
      "text/html": [
       "<table>\n",
       "    <thead>\n",
       "        <tr>\n",
       "            <th>id</th>\n",
       "            <th>code</th>\n",
       "            <th>name</th>\n",
       "            <th>area</th>\n",
       "            <th>area_land</th>\n",
       "            <th>area_water</th>\n",
       "            <th>population</th>\n",
       "            <th>population_growth</th>\n",
       "            <th>birth_rate</th>\n",
       "            <th>death_rate</th>\n",
       "            <th>migration_rate</th>\n",
       "        </tr>\n",
       "    </thead>\n",
       "    <tbody>\n",
       "        <tr>\n",
       "            <td>37</td>\n",
       "            <td>ch</td>\n",
       "            <td>China</td>\n",
       "            <td>9596960</td>\n",
       "            <td>9326410</td>\n",
       "            <td>270550</td>\n",
       "            <td>1367485388</td>\n",
       "            <td>0.45</td>\n",
       "            <td>12.49</td>\n",
       "            <td>7.53</td>\n",
       "            <td>0.44</td>\n",
       "        </tr>\n",
       "    </tbody>\n",
       "</table>"
      ],
      "text/plain": [
       "[(37, 'ch', 'China', 9596960, 9326410, 270550, 1367485388, 0.45, 12.49, 7.53, 0.44)]"
      ]
     },
     "execution_count": 10,
     "metadata": {},
     "output_type": "execute_result"
    }
   ],
   "source": [
    "# Finding the most populated country\n",
    "%sql SELECT * FROM facts WHERE population == (SELECT MAX(population) FROM facts WHERE name <> 'World');"
   ]
  },
  {
   "cell_type": "code",
   "execution_count": 11,
   "id": "b6b16f7a-4ce6-439a-9891-034f2446e598",
   "metadata": {},
   "outputs": [
    {
     "name": "stdout",
     "output_type": "stream",
     "text": [
      " * sqlite:///factbook.db\n",
      "Done.\n"
     ]
    },
    {
     "data": {
      "text/html": [
       "<table>\n",
       "    <thead>\n",
       "        <tr>\n",
       "            <th>id</th>\n",
       "            <th>code</th>\n",
       "            <th>name</th>\n",
       "            <th>area</th>\n",
       "            <th>area_land</th>\n",
       "            <th>area_water</th>\n",
       "            <th>population</th>\n",
       "            <th>population_growth</th>\n",
       "            <th>birth_rate</th>\n",
       "            <th>death_rate</th>\n",
       "            <th>migration_rate</th>\n",
       "        </tr>\n",
       "    </thead>\n",
       "    <tbody>\n",
       "        <tr>\n",
       "            <td>162</td>\n",
       "            <td>od</td>\n",
       "            <td>South Sudan</td>\n",
       "            <td>644329</td>\n",
       "            <td>None</td>\n",
       "            <td>None</td>\n",
       "            <td>12042910</td>\n",
       "            <td>4.02</td>\n",
       "            <td>36.91</td>\n",
       "            <td>8.18</td>\n",
       "            <td>11.47</td>\n",
       "        </tr>\n",
       "    </tbody>\n",
       "</table>"
      ],
      "text/plain": [
       "[(162, 'od', 'South Sudan', 644329, None, None, 12042910, 4.02, 36.91, 8.18, 11.47)]"
      ]
     },
     "execution_count": 11,
     "metadata": {},
     "output_type": "execute_result"
    }
   ],
   "source": [
    "# Finding the country with highest population growth\n",
    "%sql SELECT * FROM facts WHERE population_growth == (SELECT MAX(population_growth) FROM facts WHERE NAME <> 'World');"
   ]
  },
  {
   "cell_type": "code",
   "execution_count": 12,
   "id": "f4451cd3-2b02-42f9-abac-80830adb7fd1",
   "metadata": {},
   "outputs": [
    {
     "name": "stdout",
     "output_type": "stream",
     "text": [
      " * sqlite:///factbook.db\n",
      "Done.\n"
     ]
    },
    {
     "data": {
      "text/html": [
       "<table>\n",
       "    <thead>\n",
       "        <tr>\n",
       "            <th>id</th>\n",
       "            <th>code</th>\n",
       "            <th>name</th>\n",
       "            <th>area</th>\n",
       "            <th>area_land</th>\n",
       "            <th>area_water</th>\n",
       "            <th>population</th>\n",
       "            <th>population_growth</th>\n",
       "            <th>birth_rate</th>\n",
       "            <th>death_rate</th>\n",
       "            <th>migration_rate</th>\n",
       "        </tr>\n",
       "    </thead>\n",
       "    <tbody>\n",
       "        <tr>\n",
       "            <td>228</td>\n",
       "            <td>io</td>\n",
       "            <td>British Indian Ocean Territory</td>\n",
       "            <td>54400</td>\n",
       "            <td>60</td>\n",
       "            <td>54340</td>\n",
       "            <td>None</td>\n",
       "            <td>None</td>\n",
       "            <td>None</td>\n",
       "            <td>None</td>\n",
       "            <td>None</td>\n",
       "        </tr>\n",
       "    </tbody>\n",
       "</table>"
      ],
      "text/plain": [
       "[(228, 'io', 'British Indian Ocean Territory', 54400, 60, 54340, None, None, None, None, None)]"
      ]
     },
     "execution_count": 12,
     "metadata": {},
     "output_type": "execute_result"
    }
   ],
   "source": [
    "# Finding a country with the highest ratio of water to land\n",
    "%sql SELECT * FROM facts WHERE area_water/area_land == (SELECT MAX(area_water/area_land) FROM facts WHERE name <> 'World');"
   ]
  },
  {
   "cell_type": "code",
   "execution_count": 13,
   "id": "61d48d0e-3d6c-4fbd-a644-fa10c5f4a2ce",
   "metadata": {},
   "outputs": [
    {
     "name": "stdout",
     "output_type": "stream",
     "text": [
      " * sqlite:///factbook.db\n",
      "Done.\n"
     ]
    },
    {
     "data": {
      "text/html": [
       "<table>\n",
       "    <thead>\n",
       "        <tr>\n",
       "            <th>id</th>\n",
       "            <th>code</th>\n",
       "            <th>name</th>\n",
       "            <th>area</th>\n",
       "            <th>area_land</th>\n",
       "            <th>area_water</th>\n",
       "            <th>population</th>\n",
       "            <th>population_growth</th>\n",
       "            <th>birth_rate</th>\n",
       "            <th>death_rate</th>\n",
       "            <th>migration_rate</th>\n",
       "        </tr>\n",
       "    </thead>\n",
       "    <tbody>\n",
       "        <tr>\n",
       "            <td>228</td>\n",
       "            <td>io</td>\n",
       "            <td>British Indian Ocean Territory</td>\n",
       "            <td>54400</td>\n",
       "            <td>60</td>\n",
       "            <td>54340</td>\n",
       "            <td>None</td>\n",
       "            <td>None</td>\n",
       "            <td>None</td>\n",
       "            <td>None</td>\n",
       "            <td>None</td>\n",
       "        </tr>\n",
       "        <tr>\n",
       "            <td>247</td>\n",
       "            <td>vq</td>\n",
       "            <td>Virgin Islands</td>\n",
       "            <td>1910</td>\n",
       "            <td>346</td>\n",
       "            <td>1564</td>\n",
       "            <td>103574</td>\n",
       "            <td>0.59</td>\n",
       "            <td>10.31</td>\n",
       "            <td>8.54</td>\n",
       "            <td>7.67</td>\n",
       "        </tr>\n",
       "    </tbody>\n",
       "</table>"
      ],
      "text/plain": [
       "[(228, 'io', 'British Indian Ocean Territory', 54400, 60, 54340, None, None, None, None, None),\n",
       " (247, 'vq', 'Virgin Islands', 1910, 346, 1564, 103574, 0.59, 10.31, 8.54, 7.67)]"
      ]
     },
     "execution_count": 13,
     "metadata": {},
     "output_type": "execute_result"
    }
   ],
   "source": [
    "# Find a country with more water than land\n",
    "%sql SELECT * FROM facts WHERE area_water > area_land;"
   ]
  },
  {
   "cell_type": "code",
   "execution_count": 14,
   "id": "f8863d57-a2fe-41c1-be87-4698cc8fceeb",
   "metadata": {},
   "outputs": [
    {
     "name": "stdout",
     "output_type": "stream",
     "text": [
      " * sqlite:///factbook.db\n",
      "Done.\n"
     ]
    },
    {
     "data": {
      "text/html": [
       "<table>\n",
       "    <thead>\n",
       "        <tr>\n",
       "            <th>id</th>\n",
       "            <th>code</th>\n",
       "            <th>name</th>\n",
       "            <th>area</th>\n",
       "            <th>area_land</th>\n",
       "            <th>area_water</th>\n",
       "            <th>population</th>\n",
       "            <th>population_growth</th>\n",
       "            <th>birth_rate</th>\n",
       "            <th>death_rate</th>\n",
       "            <th>migration_rate</th>\n",
       "        </tr>\n",
       "    </thead>\n",
       "    <tbody>\n",
       "        <tr>\n",
       "            <td>106</td>\n",
       "            <td>mi</td>\n",
       "            <td>Malawi</td>\n",
       "            <td>118484</td>\n",
       "            <td>94080</td>\n",
       "            <td>24404</td>\n",
       "            <td>17964697</td>\n",
       "            <td>3.32</td>\n",
       "            <td>41.56</td>\n",
       "            <td>8.41</td>\n",
       "            <td>0.0</td>\n",
       "        </tr>\n",
       "    </tbody>\n",
       "</table>"
      ],
      "text/plain": [
       "[(106, 'mi', 'Malawi', 118484, 94080, 24404, 17964697, 3.32, 41.56, 8.41, 0.0)]"
      ]
     },
     "execution_count": 14,
     "metadata": {},
     "output_type": "execute_result"
    }
   ],
   "source": [
    "# Finding a country that will add the most people to their populations\n",
    "%sql SELECT * FROM facts WHERE (birth_rate - death_rate) = (SELECT MAX((birth_rate - death_rate)) FROM facts WHERE name <> 'World');"
   ]
  },
  {
   "cell_type": "code",
   "execution_count": 15,
   "id": "c9667661-a6ff-4472-a8a6-dd87b557d6f3",
   "metadata": {},
   "outputs": [
    {
     "name": "stdout",
     "output_type": "stream",
     "text": [
      " * sqlite:///factbook.db\n",
      "Done.\n"
     ]
    },
    {
     "data": {
      "text/html": [
       "<table>\n",
       "    <thead>\n",
       "        <tr>\n",
       "            <th>id</th>\n",
       "            <th>code</th>\n",
       "            <th>name</th>\n",
       "            <th>area</th>\n",
       "            <th>area_land</th>\n",
       "            <th>area_water</th>\n",
       "            <th>population</th>\n",
       "            <th>population_growth</th>\n",
       "            <th>birth_rate</th>\n",
       "            <th>death_rate</th>\n",
       "            <th>migration_rate</th>\n",
       "        </tr>\n",
       "    </thead>\n",
       "    <tbody>\n",
       "        <tr>\n",
       "            <td>10</td>\n",
       "            <td>au</td>\n",
       "            <td>Austria</td>\n",
       "            <td>83871</td>\n",
       "            <td>82445</td>\n",
       "            <td>1426</td>\n",
       "            <td>8665550</td>\n",
       "            <td>0.55</td>\n",
       "            <td>9.41</td>\n",
       "            <td>9.42</td>\n",
       "            <td>5.56</td>\n",
       "        </tr>\n",
       "        <tr>\n",
       "            <td>16</td>\n",
       "            <td>bo</td>\n",
       "            <td>Belarus</td>\n",
       "            <td>207600</td>\n",
       "            <td>202900</td>\n",
       "            <td>4700</td>\n",
       "            <td>9589689</td>\n",
       "            <td>0.2</td>\n",
       "            <td>10.7</td>\n",
       "            <td>13.36</td>\n",
       "            <td>0.7</td>\n",
       "        </tr>\n",
       "        <tr>\n",
       "            <td>22</td>\n",
       "            <td>bk</td>\n",
       "            <td>Bosnia and Herzegovina</td>\n",
       "            <td>51197</td>\n",
       "            <td>51187</td>\n",
       "            <td>10</td>\n",
       "            <td>3867055</td>\n",
       "            <td>0.13</td>\n",
       "            <td>8.87</td>\n",
       "            <td>9.75</td>\n",
       "            <td>0.38</td>\n",
       "        </tr>\n",
       "        <tr>\n",
       "            <td>26</td>\n",
       "            <td>bu</td>\n",
       "            <td>Bulgaria</td>\n",
       "            <td>110879</td>\n",
       "            <td>108489</td>\n",
       "            <td>2390</td>\n",
       "            <td>7186893</td>\n",
       "            <td>0.58</td>\n",
       "            <td>8.92</td>\n",
       "            <td>14.44</td>\n",
       "            <td>0.29</td>\n",
       "        </tr>\n",
       "        <tr>\n",
       "            <td>44</td>\n",
       "            <td>hr</td>\n",
       "            <td>Croatia</td>\n",
       "            <td>56594</td>\n",
       "            <td>55974</td>\n",
       "            <td>620</td>\n",
       "            <td>4464844</td>\n",
       "            <td>0.13</td>\n",
       "            <td>9.45</td>\n",
       "            <td>12.18</td>\n",
       "            <td>1.39</td>\n",
       "        </tr>\n",
       "        <tr>\n",
       "            <td>47</td>\n",
       "            <td>ez</td>\n",
       "            <td>Czech Republic</td>\n",
       "            <td>78867</td>\n",
       "            <td>77247</td>\n",
       "            <td>1620</td>\n",
       "            <td>10644842</td>\n",
       "            <td>0.16</td>\n",
       "            <td>9.63</td>\n",
       "            <td>10.34</td>\n",
       "            <td>2.33</td>\n",
       "        </tr>\n",
       "        <tr>\n",
       "            <td>57</td>\n",
       "            <td>en</td>\n",
       "            <td>Estonia</td>\n",
       "            <td>45228</td>\n",
       "            <td>42388</td>\n",
       "            <td>2840</td>\n",
       "            <td>1265420</td>\n",
       "            <td>0.55</td>\n",
       "            <td>10.51</td>\n",
       "            <td>12.4</td>\n",
       "            <td>3.6</td>\n",
       "        </tr>\n",
       "        <tr>\n",
       "            <td>65</td>\n",
       "            <td>gm</td>\n",
       "            <td>Germany</td>\n",
       "            <td>357022</td>\n",
       "            <td>348672</td>\n",
       "            <td>8350</td>\n",
       "            <td>80854408</td>\n",
       "            <td>0.17</td>\n",
       "            <td>8.47</td>\n",
       "            <td>11.42</td>\n",
       "            <td>1.24</td>\n",
       "        </tr>\n",
       "        <tr>\n",
       "            <td>67</td>\n",
       "            <td>gr</td>\n",
       "            <td>Greece</td>\n",
       "            <td>131957</td>\n",
       "            <td>130647</td>\n",
       "            <td>1310</td>\n",
       "            <td>10775643</td>\n",
       "            <td>0.01</td>\n",
       "            <td>8.66</td>\n",
       "            <td>11.09</td>\n",
       "            <td>2.32</td>\n",
       "        </tr>\n",
       "        <tr>\n",
       "            <td>75</td>\n",
       "            <td>hu</td>\n",
       "            <td>Hungary</td>\n",
       "            <td>93028</td>\n",
       "            <td>89608</td>\n",
       "            <td>3420</td>\n",
       "            <td>9897541</td>\n",
       "            <td>0.22</td>\n",
       "            <td>9.16</td>\n",
       "            <td>12.73</td>\n",
       "            <td>1.33</td>\n",
       "        </tr>\n",
       "        <tr>\n",
       "            <td>83</td>\n",
       "            <td>it</td>\n",
       "            <td>Italy</td>\n",
       "            <td>301340</td>\n",
       "            <td>294140</td>\n",
       "            <td>7200</td>\n",
       "            <td>61855120</td>\n",
       "            <td>0.27</td>\n",
       "            <td>8.74</td>\n",
       "            <td>10.19</td>\n",
       "            <td>4.1</td>\n",
       "        </tr>\n",
       "        <tr>\n",
       "            <td>85</td>\n",
       "            <td>ja</td>\n",
       "            <td>Japan</td>\n",
       "            <td>377915</td>\n",
       "            <td>364485</td>\n",
       "            <td>13430</td>\n",
       "            <td>126919659</td>\n",
       "            <td>0.16</td>\n",
       "            <td>7.93</td>\n",
       "            <td>9.51</td>\n",
       "            <td>0.0</td>\n",
       "        </tr>\n",
       "        <tr>\n",
       "            <td>96</td>\n",
       "            <td>lg</td>\n",
       "            <td>Latvia</td>\n",
       "            <td>64589</td>\n",
       "            <td>62249</td>\n",
       "            <td>2340</td>\n",
       "            <td>1986705</td>\n",
       "            <td>1.06</td>\n",
       "            <td>10.0</td>\n",
       "            <td>14.31</td>\n",
       "            <td>6.26</td>\n",
       "        </tr>\n",
       "        <tr>\n",
       "            <td>102</td>\n",
       "            <td>lh</td>\n",
       "            <td>Lithuania</td>\n",
       "            <td>65300</td>\n",
       "            <td>62680</td>\n",
       "            <td>2620</td>\n",
       "            <td>2884433</td>\n",
       "            <td>1.04</td>\n",
       "            <td>10.1</td>\n",
       "            <td>14.27</td>\n",
       "            <td>6.27</td>\n",
       "        </tr>\n",
       "        <tr>\n",
       "            <td>116</td>\n",
       "            <td>md</td>\n",
       "            <td>Moldova</td>\n",
       "            <td>33851</td>\n",
       "            <td>32891</td>\n",
       "            <td>960</td>\n",
       "            <td>3546847</td>\n",
       "            <td>1.03</td>\n",
       "            <td>12.0</td>\n",
       "            <td>12.59</td>\n",
       "            <td>9.67</td>\n",
       "        </tr>\n",
       "        <tr>\n",
       "            <td>117</td>\n",
       "            <td>mn</td>\n",
       "            <td>Monaco</td>\n",
       "            <td>2</td>\n",
       "            <td>2</td>\n",
       "            <td>0</td>\n",
       "            <td>30535</td>\n",
       "            <td>0.12</td>\n",
       "            <td>6.65</td>\n",
       "            <td>9.24</td>\n",
       "            <td>3.83</td>\n",
       "        </tr>\n",
       "        <tr>\n",
       "            <td>139</td>\n",
       "            <td>pl</td>\n",
       "            <td>Poland</td>\n",
       "            <td>312685</td>\n",
       "            <td>304255</td>\n",
       "            <td>8430</td>\n",
       "            <td>38562189</td>\n",
       "            <td>0.09</td>\n",
       "            <td>9.74</td>\n",
       "            <td>10.19</td>\n",
       "            <td>0.46</td>\n",
       "        </tr>\n",
       "        <tr>\n",
       "            <td>140</td>\n",
       "            <td>po</td>\n",
       "            <td>Portugal</td>\n",
       "            <td>92090</td>\n",
       "            <td>91470</td>\n",
       "            <td>620</td>\n",
       "            <td>10825309</td>\n",
       "            <td>0.09</td>\n",
       "            <td>9.27</td>\n",
       "            <td>11.02</td>\n",
       "            <td>2.67</td>\n",
       "        </tr>\n",
       "        <tr>\n",
       "            <td>142</td>\n",
       "            <td>ro</td>\n",
       "            <td>Romania</td>\n",
       "            <td>238391</td>\n",
       "            <td>229891</td>\n",
       "            <td>8500</td>\n",
       "            <td>21666350</td>\n",
       "            <td>0.3</td>\n",
       "            <td>9.14</td>\n",
       "            <td>11.9</td>\n",
       "            <td>0.24</td>\n",
       "        </tr>\n",
       "        <tr>\n",
       "            <td>143</td>\n",
       "            <td>rs</td>\n",
       "            <td>Russia</td>\n",
       "            <td>17098242</td>\n",
       "            <td>16377742</td>\n",
       "            <td>720500</td>\n",
       "            <td>142423773</td>\n",
       "            <td>0.04</td>\n",
       "            <td>11.6</td>\n",
       "            <td>13.69</td>\n",
       "            <td>1.69</td>\n",
       "        </tr>\n",
       "        <tr>\n",
       "            <td>153</td>\n",
       "            <td>ri</td>\n",
       "            <td>Serbia</td>\n",
       "            <td>77474</td>\n",
       "            <td>77474</td>\n",
       "            <td>0</td>\n",
       "            <td>7176794</td>\n",
       "            <td>0.46</td>\n",
       "            <td>9.08</td>\n",
       "            <td>13.66</td>\n",
       "            <td>0.0</td>\n",
       "        </tr>\n",
       "        <tr>\n",
       "            <td>158</td>\n",
       "            <td>si</td>\n",
       "            <td>Slovenia</td>\n",
       "            <td>20273</td>\n",
       "            <td>20151</td>\n",
       "            <td>122</td>\n",
       "            <td>1983412</td>\n",
       "            <td>0.26</td>\n",
       "            <td>8.42</td>\n",
       "            <td>11.37</td>\n",
       "            <td>0.37</td>\n",
       "        </tr>\n",
       "        <tr>\n",
       "            <td>183</td>\n",
       "            <td>up</td>\n",
       "            <td>Ukraine</td>\n",
       "            <td>603550</td>\n",
       "            <td>579330</td>\n",
       "            <td>24220</td>\n",
       "            <td>44429471</td>\n",
       "            <td>0.6</td>\n",
       "            <td>10.72</td>\n",
       "            <td>14.46</td>\n",
       "            <td>2.25</td>\n",
       "        </tr>\n",
       "        <tr>\n",
       "            <td>214</td>\n",
       "            <td>sb</td>\n",
       "            <td>Saint Pierre and Miquelon</td>\n",
       "            <td>242</td>\n",
       "            <td>242</td>\n",
       "            <td>0</td>\n",
       "            <td>5657</td>\n",
       "            <td>1.08</td>\n",
       "            <td>7.42</td>\n",
       "            <td>9.72</td>\n",
       "            <td>8.49</td>\n",
       "        </tr>\n",
       "    </tbody>\n",
       "</table>"
      ],
      "text/plain": [
       "[(10, 'au', 'Austria', 83871, 82445, 1426, 8665550, 0.55, 9.41, 9.42, 5.56),\n",
       " (16, 'bo', 'Belarus', 207600, 202900, 4700, 9589689, 0.2, 10.7, 13.36, 0.7),\n",
       " (22, 'bk', 'Bosnia and Herzegovina', 51197, 51187, 10, 3867055, 0.13, 8.87, 9.75, 0.38),\n",
       " (26, 'bu', 'Bulgaria', 110879, 108489, 2390, 7186893, 0.58, 8.92, 14.44, 0.29),\n",
       " (44, 'hr', 'Croatia', 56594, 55974, 620, 4464844, 0.13, 9.45, 12.18, 1.39),\n",
       " (47, 'ez', 'Czech Republic', 78867, 77247, 1620, 10644842, 0.16, 9.63, 10.34, 2.33),\n",
       " (57, 'en', 'Estonia', 45228, 42388, 2840, 1265420, 0.55, 10.51, 12.4, 3.6),\n",
       " (65, 'gm', 'Germany', 357022, 348672, 8350, 80854408, 0.17, 8.47, 11.42, 1.24),\n",
       " (67, 'gr', 'Greece', 131957, 130647, 1310, 10775643, 0.01, 8.66, 11.09, 2.32),\n",
       " (75, 'hu', 'Hungary', 93028, 89608, 3420, 9897541, 0.22, 9.16, 12.73, 1.33),\n",
       " (83, 'it', 'Italy', 301340, 294140, 7200, 61855120, 0.27, 8.74, 10.19, 4.1),\n",
       " (85, 'ja', 'Japan', 377915, 364485, 13430, 126919659, 0.16, 7.93, 9.51, 0.0),\n",
       " (96, 'lg', 'Latvia', 64589, 62249, 2340, 1986705, 1.06, 10.0, 14.31, 6.26),\n",
       " (102, 'lh', 'Lithuania', 65300, 62680, 2620, 2884433, 1.04, 10.1, 14.27, 6.27),\n",
       " (116, 'md', 'Moldova', 33851, 32891, 960, 3546847, 1.03, 12.0, 12.59, 9.67),\n",
       " (117, 'mn', 'Monaco', 2, 2, 0, 30535, 0.12, 6.65, 9.24, 3.83),\n",
       " (139, 'pl', 'Poland', 312685, 304255, 8430, 38562189, 0.09, 9.74, 10.19, 0.46),\n",
       " (140, 'po', 'Portugal', 92090, 91470, 620, 10825309, 0.09, 9.27, 11.02, 2.67),\n",
       " (142, 'ro', 'Romania', 238391, 229891, 8500, 21666350, 0.3, 9.14, 11.9, 0.24),\n",
       " (143, 'rs', 'Russia', 17098242, 16377742, 720500, 142423773, 0.04, 11.6, 13.69, 1.69),\n",
       " (153, 'ri', 'Serbia', 77474, 77474, 0, 7176794, 0.46, 9.08, 13.66, 0.0),\n",
       " (158, 'si', 'Slovenia', 20273, 20151, 122, 1983412, 0.26, 8.42, 11.37, 0.37),\n",
       " (183, 'up', 'Ukraine', 603550, 579330, 24220, 44429471, 0.6, 10.72, 14.46, 2.25),\n",
       " (214, 'sb', 'Saint Pierre and Miquelon', 242, 242, 0, 5657, 1.08, 7.42, 9.72, 8.49)]"
      ]
     },
     "execution_count": 15,
     "metadata": {},
     "output_type": "execute_result"
    }
   ],
   "source": [
    "# Find a country with a higher death rate than birth date\n",
    "%sql SELECT * FROM facts WHERE death_rate > birth_rate AND name <> 'World';"
   ]
  },
  {
   "cell_type": "code",
   "execution_count": 16,
   "id": "e669a809-549a-4f05-8b58-7036c59e498a",
   "metadata": {},
   "outputs": [
    {
     "name": "stdout",
     "output_type": "stream",
     "text": [
      " * sqlite:///factbook.db\n",
      "Done.\n"
     ]
    },
    {
     "data": {
      "text/html": [
       "<table>\n",
       "    <thead>\n",
       "        <tr>\n",
       "            <th>id</th>\n",
       "            <th>code</th>\n",
       "            <th>name</th>\n",
       "            <th>area</th>\n",
       "            <th>area_land</th>\n",
       "            <th>area_water</th>\n",
       "            <th>population</th>\n",
       "            <th>population_growth</th>\n",
       "            <th>birth_rate</th>\n",
       "            <th>death_rate</th>\n",
       "            <th>migration_rate</th>\n",
       "        </tr>\n",
       "    </thead>\n",
       "    <tbody>\n",
       "        <tr>\n",
       "            <td>205</td>\n",
       "            <td>mc</td>\n",
       "            <td>Macau</td>\n",
       "            <td>28</td>\n",
       "            <td>28</td>\n",
       "            <td>0</td>\n",
       "            <td>592731</td>\n",
       "            <td>0.8</td>\n",
       "            <td>8.88</td>\n",
       "            <td>4.22</td>\n",
       "            <td>3.37</td>\n",
       "        </tr>\n",
       "    </tbody>\n",
       "</table>"
      ],
      "text/plain": [
       "[(205, 'mc', 'Macau', 28, 28, 0, 592731, 0.8, 8.88, 4.22, 3.37)]"
      ]
     },
     "execution_count": 16,
     "metadata": {},
     "output_type": "execute_result"
    }
   ],
   "source": [
    "# Finding a country with the highest population/area ratio\n",
    "%sql SELECT * FROM facts WHERE population/area = (SELECT MAX(population/area) FROM facts WHERE name <> 'World');"
   ]
  }
 ],
 "metadata": {
  "kernelspec": {
   "display_name": "Python 3 (ipykernel)",
   "language": "python",
   "name": "python3"
  },
  "language_info": {
   "codemirror_mode": {
    "name": "ipython",
    "version": 3
   },
   "file_extension": ".py",
   "mimetype": "text/x-python",
   "name": "python",
   "nbconvert_exporter": "python",
   "pygments_lexer": "ipython3",
   "version": "3.9.12"
  }
 },
 "nbformat": 4,
 "nbformat_minor": 5
}
