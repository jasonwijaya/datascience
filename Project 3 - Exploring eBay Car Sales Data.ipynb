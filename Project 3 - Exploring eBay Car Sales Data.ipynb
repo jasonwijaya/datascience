{
 "cells": [
  {
   "cell_type": "markdown",
   "id": "de3a420b-0aa3-44fe-93d8-1cc62d1e6b56",
   "metadata": {},
   "source": [
    "# Exploring eBay Car Sales Data"
   ]
  },
  {
   "cell_type": "markdown",
   "id": "cb4f824b-ae00-4a12-b1be-214e42ae1ba0",
   "metadata": {},
   "source": [
    "We will be working on a dataset of used cars from *eBay Kleinanzeigen*, a [classifieds](https://en.wikipedia.org/wiki/Classified_advertising) section of the German eBay website.\n",
    "\n",
    "The dataset was originally scraped and uploaded to [Kaggle](https://www.kaggle.com/orgesleka/used-cars-database/data).  The version of the dataset we are working with is a sample of over 370,000 data points that was prepared by [Dataquest](https://www.dataquest.io).\n",
    "\n",
    "The data dictionary provided with data is as follows:\n",
    "\n",
    "- `dateCrawled` - When this ad was first crawled. All field-values are taken from this date.\n",
    "- `name` - Name of the car.\n",
    "- `seller` - Whether the seller is private or a dealer.\n",
    "- `offerType` - The type of listing\n",
    "- `price` - The price on the ad to sell the car.\n",
    "- `abtest` - Whether the listing is included in an A/B test.\n",
    "- `vehicleType` - The vehicle Type.\n",
    "- `yearOfRegistration` - The year in which which year the car was first registered.\n",
    "- `gearbox` - The transmission type.\n",
    "- `powerPS` - The power of the car in PS.\n",
    "- `model` - The car model name.\n",
    "- `kilometer` - How many kilometers the car has driven.\n",
    "- `monthOfRegistration` - The month in which which year the car was first registered.\n",
    "- `fuelType` - What type of fuel the car uses.\n",
    "- `brand` - The brand of the car.\n",
    "- `notRepairedDamage` - If the car has a damage which is not yet repaired.\n",
    "- `dateCreated` - The date on which the eBay listing was created.\n",
    "- `nrOfPictures` - The number of pictures in the ad.\n",
    "- `postalCode` - The postal code for the location of the vehicle.\n",
    "- `lastSeenOnline` - When the crawler saw this ad last online.\n",
    "\n",
    "\n",
    "The aim of this project is to clean the data and analyze the included used car listings."
   ]
  },
  {
   "cell_type": "code",
   "execution_count": 1,
   "id": "ad2086ac-688d-4068-bfac-c62d6459d982",
   "metadata": {},
   "outputs": [],
   "source": [
    "# Import the necessary libaries\n",
    "import pandas as pd\n",
    "import numpy as np"
   ]
  },
  {
   "cell_type": "code",
   "execution_count": 2,
   "id": "5ce173dd-77f3-4e32-868b-4f2df72e24a8",
   "metadata": {},
   "outputs": [],
   "source": [
    "# Read the CSV file and assign it to a variable name\n",
    "autos = pd.read_csv('autos.csv', encoding='Latin-1')"
   ]
  },
  {
   "cell_type": "code",
   "execution_count": 3,
   "id": "e72b8730-5daf-422f-8bab-906955120830",
   "metadata": {},
   "outputs": [
    {
     "name": "stdout",
     "output_type": "stream",
     "text": [
      "<class 'pandas.core.frame.DataFrame'>\n",
      "RangeIndex: 371528 entries, 0 to 371527\n",
      "Data columns (total 20 columns):\n",
      " #   Column               Non-Null Count   Dtype \n",
      "---  ------               --------------   ----- \n",
      " 0   dateCrawled          371528 non-null  object\n",
      " 1   name                 371528 non-null  object\n",
      " 2   seller               371528 non-null  object\n",
      " 3   offerType            371528 non-null  object\n",
      " 4   price                371528 non-null  int64 \n",
      " 5   abtest               371528 non-null  object\n",
      " 6   vehicleType          333659 non-null  object\n",
      " 7   yearOfRegistration   371528 non-null  int64 \n",
      " 8   gearbox              351319 non-null  object\n",
      " 9   powerPS              371528 non-null  int64 \n",
      " 10  model                351044 non-null  object\n",
      " 11  kilometer            371528 non-null  int64 \n",
      " 12  monthOfRegistration  371528 non-null  int64 \n",
      " 13  fuelType             338142 non-null  object\n",
      " 14  brand                371528 non-null  object\n",
      " 15  notRepairedDamage    299468 non-null  object\n",
      " 16  dateCreated          371528 non-null  object\n",
      " 17  nrOfPictures         371528 non-null  int64 \n",
      " 18  postalCode           371528 non-null  int64 \n",
      " 19  lastSeen             371528 non-null  object\n",
      "dtypes: int64(7), object(13)\n",
      "memory usage: 56.7+ MB\n"
     ]
    }
   ],
   "source": [
    "# Examine the dataframe\n",
    "autos.info()"
   ]
  },
  {
   "cell_type": "code",
   "execution_count": 4,
   "id": "80bee38b-abeb-4f15-8eea-287e39c01194",
   "metadata": {},
   "outputs": [
    {
     "data": {
      "text/html": [
       "<div>\n",
       "<style scoped>\n",
       "    .dataframe tbody tr th:only-of-type {\n",
       "        vertical-align: middle;\n",
       "    }\n",
       "\n",
       "    .dataframe tbody tr th {\n",
       "        vertical-align: top;\n",
       "    }\n",
       "\n",
       "    .dataframe thead th {\n",
       "        text-align: right;\n",
       "    }\n",
       "</style>\n",
       "<table border=\"1\" class=\"dataframe\">\n",
       "  <thead>\n",
       "    <tr style=\"text-align: right;\">\n",
       "      <th></th>\n",
       "      <th>dateCrawled</th>\n",
       "      <th>name</th>\n",
       "      <th>seller</th>\n",
       "      <th>offerType</th>\n",
       "      <th>price</th>\n",
       "      <th>abtest</th>\n",
       "      <th>vehicleType</th>\n",
       "      <th>yearOfRegistration</th>\n",
       "      <th>gearbox</th>\n",
       "      <th>powerPS</th>\n",
       "      <th>model</th>\n",
       "      <th>kilometer</th>\n",
       "      <th>monthOfRegistration</th>\n",
       "      <th>fuelType</th>\n",
       "      <th>brand</th>\n",
       "      <th>notRepairedDamage</th>\n",
       "      <th>dateCreated</th>\n",
       "      <th>nrOfPictures</th>\n",
       "      <th>postalCode</th>\n",
       "      <th>lastSeen</th>\n",
       "    </tr>\n",
       "  </thead>\n",
       "  <tbody>\n",
       "    <tr>\n",
       "      <th>0</th>\n",
       "      <td>2016-03-24 11:52:17</td>\n",
       "      <td>Golf_3_1.6</td>\n",
       "      <td>privat</td>\n",
       "      <td>Angebot</td>\n",
       "      <td>480</td>\n",
       "      <td>test</td>\n",
       "      <td>NaN</td>\n",
       "      <td>1993</td>\n",
       "      <td>manuell</td>\n",
       "      <td>0</td>\n",
       "      <td>golf</td>\n",
       "      <td>150000</td>\n",
       "      <td>0</td>\n",
       "      <td>benzin</td>\n",
       "      <td>volkswagen</td>\n",
       "      <td>NaN</td>\n",
       "      <td>2016-03-24 00:00:00</td>\n",
       "      <td>0</td>\n",
       "      <td>70435</td>\n",
       "      <td>2016-04-07 03:16:57</td>\n",
       "    </tr>\n",
       "    <tr>\n",
       "      <th>1</th>\n",
       "      <td>2016-03-24 10:58:45</td>\n",
       "      <td>A5_Sportback_2.7_Tdi</td>\n",
       "      <td>privat</td>\n",
       "      <td>Angebot</td>\n",
       "      <td>18300</td>\n",
       "      <td>test</td>\n",
       "      <td>coupe</td>\n",
       "      <td>2011</td>\n",
       "      <td>manuell</td>\n",
       "      <td>190</td>\n",
       "      <td>NaN</td>\n",
       "      <td>125000</td>\n",
       "      <td>5</td>\n",
       "      <td>diesel</td>\n",
       "      <td>audi</td>\n",
       "      <td>ja</td>\n",
       "      <td>2016-03-24 00:00:00</td>\n",
       "      <td>0</td>\n",
       "      <td>66954</td>\n",
       "      <td>2016-04-07 01:46:50</td>\n",
       "    </tr>\n",
       "    <tr>\n",
       "      <th>2</th>\n",
       "      <td>2016-03-14 12:52:21</td>\n",
       "      <td>Jeep_Grand_Cherokee_\"Overland\"</td>\n",
       "      <td>privat</td>\n",
       "      <td>Angebot</td>\n",
       "      <td>9800</td>\n",
       "      <td>test</td>\n",
       "      <td>suv</td>\n",
       "      <td>2004</td>\n",
       "      <td>automatik</td>\n",
       "      <td>163</td>\n",
       "      <td>grand</td>\n",
       "      <td>125000</td>\n",
       "      <td>8</td>\n",
       "      <td>diesel</td>\n",
       "      <td>jeep</td>\n",
       "      <td>NaN</td>\n",
       "      <td>2016-03-14 00:00:00</td>\n",
       "      <td>0</td>\n",
       "      <td>90480</td>\n",
       "      <td>2016-04-05 12:47:46</td>\n",
       "    </tr>\n",
       "    <tr>\n",
       "      <th>3</th>\n",
       "      <td>2016-03-17 16:54:04</td>\n",
       "      <td>GOLF_4_1_4__3TÜRER</td>\n",
       "      <td>privat</td>\n",
       "      <td>Angebot</td>\n",
       "      <td>1500</td>\n",
       "      <td>test</td>\n",
       "      <td>kleinwagen</td>\n",
       "      <td>2001</td>\n",
       "      <td>manuell</td>\n",
       "      <td>75</td>\n",
       "      <td>golf</td>\n",
       "      <td>150000</td>\n",
       "      <td>6</td>\n",
       "      <td>benzin</td>\n",
       "      <td>volkswagen</td>\n",
       "      <td>nein</td>\n",
       "      <td>2016-03-17 00:00:00</td>\n",
       "      <td>0</td>\n",
       "      <td>91074</td>\n",
       "      <td>2016-03-17 17:40:17</td>\n",
       "    </tr>\n",
       "    <tr>\n",
       "      <th>4</th>\n",
       "      <td>2016-03-31 17:25:20</td>\n",
       "      <td>Skoda_Fabia_1.4_TDI_PD_Classic</td>\n",
       "      <td>privat</td>\n",
       "      <td>Angebot</td>\n",
       "      <td>3600</td>\n",
       "      <td>test</td>\n",
       "      <td>kleinwagen</td>\n",
       "      <td>2008</td>\n",
       "      <td>manuell</td>\n",
       "      <td>69</td>\n",
       "      <td>fabia</td>\n",
       "      <td>90000</td>\n",
       "      <td>7</td>\n",
       "      <td>diesel</td>\n",
       "      <td>skoda</td>\n",
       "      <td>nein</td>\n",
       "      <td>2016-03-31 00:00:00</td>\n",
       "      <td>0</td>\n",
       "      <td>60437</td>\n",
       "      <td>2016-04-06 10:17:21</td>\n",
       "    </tr>\n",
       "  </tbody>\n",
       "</table>\n",
       "</div>"
      ],
      "text/plain": [
       "           dateCrawled                            name  seller offerType  \\\n",
       "0  2016-03-24 11:52:17                      Golf_3_1.6  privat   Angebot   \n",
       "1  2016-03-24 10:58:45            A5_Sportback_2.7_Tdi  privat   Angebot   \n",
       "2  2016-03-14 12:52:21  Jeep_Grand_Cherokee_\"Overland\"  privat   Angebot   \n",
       "3  2016-03-17 16:54:04              GOLF_4_1_4__3TÜRER  privat   Angebot   \n",
       "4  2016-03-31 17:25:20  Skoda_Fabia_1.4_TDI_PD_Classic  privat   Angebot   \n",
       "\n",
       "   price abtest vehicleType  yearOfRegistration    gearbox  powerPS  model  \\\n",
       "0    480   test         NaN                1993    manuell        0   golf   \n",
       "1  18300   test       coupe                2011    manuell      190    NaN   \n",
       "2   9800   test         suv                2004  automatik      163  grand   \n",
       "3   1500   test  kleinwagen                2001    manuell       75   golf   \n",
       "4   3600   test  kleinwagen                2008    manuell       69  fabia   \n",
       "\n",
       "   kilometer  monthOfRegistration fuelType       brand notRepairedDamage  \\\n",
       "0     150000                    0   benzin  volkswagen               NaN   \n",
       "1     125000                    5   diesel        audi                ja   \n",
       "2     125000                    8   diesel        jeep               NaN   \n",
       "3     150000                    6   benzin  volkswagen              nein   \n",
       "4      90000                    7   diesel       skoda              nein   \n",
       "\n",
       "           dateCreated  nrOfPictures  postalCode             lastSeen  \n",
       "0  2016-03-24 00:00:00             0       70435  2016-04-07 03:16:57  \n",
       "1  2016-03-24 00:00:00             0       66954  2016-04-07 01:46:50  \n",
       "2  2016-03-14 00:00:00             0       90480  2016-04-05 12:47:46  \n",
       "3  2016-03-17 00:00:00             0       91074  2016-03-17 17:40:17  \n",
       "4  2016-03-31 00:00:00             0       60437  2016-04-06 10:17:21  "
      ]
     },
     "execution_count": 4,
     "metadata": {},
     "output_type": "execute_result"
    }
   ],
   "source": [
    "autos.head()"
   ]
  },
  {
   "cell_type": "markdown",
   "id": "0d8847c0-5159-4944-bfaf-97e508e8f0e6",
   "metadata": {},
   "source": [
    "So, there are some missing data such as `vehicleType`, `model`, `fuelType`, and `notRepairedDamage`. For `notRepairedDamage`, this is likely acceptable since not all of cars listed on eBay had a damage that was not yet repaired.\n",
    "\n",
    "In addition, the column names use camelcase instead of snakecase. Therefore, in the following section, we are going to convert the column names from camelcase to snakecase and reword some of the column names based on the data dictionary to be more descriptive."
   ]
  },
  {
   "cell_type": "markdown",
   "id": "a2f7be1a-7855-45e8-ae3d-99b3900f990a",
   "metadata": {},
   "source": [
    "# Cleaning Column Names"
   ]
  },
  {
   "cell_type": "code",
   "execution_count": 5,
   "id": "aa117619-cf99-4818-8a11-3e6aa6e0acc4",
   "metadata": {},
   "outputs": [
    {
     "data": {
      "text/plain": [
       "Index(['dateCrawled', 'name', 'seller', 'offerType', 'price', 'abtest',\n",
       "       'vehicleType', 'yearOfRegistration', 'gearbox', 'powerPS', 'model',\n",
       "       'kilometer', 'monthOfRegistration', 'fuelType', 'brand',\n",
       "       'notRepairedDamage', 'dateCreated', 'nrOfPictures', 'postalCode',\n",
       "       'lastSeen'],\n",
       "      dtype='object')"
      ]
     },
     "execution_count": 5,
     "metadata": {},
     "output_type": "execute_result"
    }
   ],
   "source": [
    "# Print the existing column names\n",
    "autos.columns"
   ]
  },
  {
   "cell_type": "code",
   "execution_count": 6,
   "id": "32be4192-f933-4c35-be94-9e40f18db64c",
   "metadata": {},
   "outputs": [],
   "source": [
    "# Replace column names from camelcase to snakecase and reword some of the column names\n",
    "autos.columns = ['date_crawled', 'name', 'seller', 'offer_type', 'price', 'abtest',\n",
    "       'vehicle_type', 'registration_year', 'gearbox', 'power_PS', 'model',\n",
    "       'kilometer', 'registration_month', 'fuel_type', 'brand',\n",
    "       'unrepaired_damage', 'ad_created', 'num_of_pictures', 'postal_code',\n",
    "       'last_seen']"
   ]
  },
  {
   "cell_type": "code",
   "execution_count": 7,
   "id": "85a26e28-42c4-4632-b03f-34d72d0bc6d7",
   "metadata": {},
   "outputs": [
    {
     "data": {
      "text/html": [
       "<div>\n",
       "<style scoped>\n",
       "    .dataframe tbody tr th:only-of-type {\n",
       "        vertical-align: middle;\n",
       "    }\n",
       "\n",
       "    .dataframe tbody tr th {\n",
       "        vertical-align: top;\n",
       "    }\n",
       "\n",
       "    .dataframe thead th {\n",
       "        text-align: right;\n",
       "    }\n",
       "</style>\n",
       "<table border=\"1\" class=\"dataframe\">\n",
       "  <thead>\n",
       "    <tr style=\"text-align: right;\">\n",
       "      <th></th>\n",
       "      <th>date_crawled</th>\n",
       "      <th>name</th>\n",
       "      <th>seller</th>\n",
       "      <th>offer_type</th>\n",
       "      <th>price</th>\n",
       "      <th>abtest</th>\n",
       "      <th>vehicle_type</th>\n",
       "      <th>registration_year</th>\n",
       "      <th>gearbox</th>\n",
       "      <th>power_PS</th>\n",
       "      <th>model</th>\n",
       "      <th>kilometer</th>\n",
       "      <th>registration_month</th>\n",
       "      <th>fuel_type</th>\n",
       "      <th>brand</th>\n",
       "      <th>unrepaired_damage</th>\n",
       "      <th>ad_created</th>\n",
       "      <th>num_of_pictures</th>\n",
       "      <th>postal_code</th>\n",
       "      <th>last_seen</th>\n",
       "    </tr>\n",
       "  </thead>\n",
       "  <tbody>\n",
       "    <tr>\n",
       "      <th>0</th>\n",
       "      <td>2016-03-24 11:52:17</td>\n",
       "      <td>Golf_3_1.6</td>\n",
       "      <td>privat</td>\n",
       "      <td>Angebot</td>\n",
       "      <td>480</td>\n",
       "      <td>test</td>\n",
       "      <td>NaN</td>\n",
       "      <td>1993</td>\n",
       "      <td>manuell</td>\n",
       "      <td>0</td>\n",
       "      <td>golf</td>\n",
       "      <td>150000</td>\n",
       "      <td>0</td>\n",
       "      <td>benzin</td>\n",
       "      <td>volkswagen</td>\n",
       "      <td>NaN</td>\n",
       "      <td>2016-03-24 00:00:00</td>\n",
       "      <td>0</td>\n",
       "      <td>70435</td>\n",
       "      <td>2016-04-07 03:16:57</td>\n",
       "    </tr>\n",
       "    <tr>\n",
       "      <th>1</th>\n",
       "      <td>2016-03-24 10:58:45</td>\n",
       "      <td>A5_Sportback_2.7_Tdi</td>\n",
       "      <td>privat</td>\n",
       "      <td>Angebot</td>\n",
       "      <td>18300</td>\n",
       "      <td>test</td>\n",
       "      <td>coupe</td>\n",
       "      <td>2011</td>\n",
       "      <td>manuell</td>\n",
       "      <td>190</td>\n",
       "      <td>NaN</td>\n",
       "      <td>125000</td>\n",
       "      <td>5</td>\n",
       "      <td>diesel</td>\n",
       "      <td>audi</td>\n",
       "      <td>ja</td>\n",
       "      <td>2016-03-24 00:00:00</td>\n",
       "      <td>0</td>\n",
       "      <td>66954</td>\n",
       "      <td>2016-04-07 01:46:50</td>\n",
       "    </tr>\n",
       "    <tr>\n",
       "      <th>2</th>\n",
       "      <td>2016-03-14 12:52:21</td>\n",
       "      <td>Jeep_Grand_Cherokee_\"Overland\"</td>\n",
       "      <td>privat</td>\n",
       "      <td>Angebot</td>\n",
       "      <td>9800</td>\n",
       "      <td>test</td>\n",
       "      <td>suv</td>\n",
       "      <td>2004</td>\n",
       "      <td>automatik</td>\n",
       "      <td>163</td>\n",
       "      <td>grand</td>\n",
       "      <td>125000</td>\n",
       "      <td>8</td>\n",
       "      <td>diesel</td>\n",
       "      <td>jeep</td>\n",
       "      <td>NaN</td>\n",
       "      <td>2016-03-14 00:00:00</td>\n",
       "      <td>0</td>\n",
       "      <td>90480</td>\n",
       "      <td>2016-04-05 12:47:46</td>\n",
       "    </tr>\n",
       "    <tr>\n",
       "      <th>3</th>\n",
       "      <td>2016-03-17 16:54:04</td>\n",
       "      <td>GOLF_4_1_4__3TÜRER</td>\n",
       "      <td>privat</td>\n",
       "      <td>Angebot</td>\n",
       "      <td>1500</td>\n",
       "      <td>test</td>\n",
       "      <td>kleinwagen</td>\n",
       "      <td>2001</td>\n",
       "      <td>manuell</td>\n",
       "      <td>75</td>\n",
       "      <td>golf</td>\n",
       "      <td>150000</td>\n",
       "      <td>6</td>\n",
       "      <td>benzin</td>\n",
       "      <td>volkswagen</td>\n",
       "      <td>nein</td>\n",
       "      <td>2016-03-17 00:00:00</td>\n",
       "      <td>0</td>\n",
       "      <td>91074</td>\n",
       "      <td>2016-03-17 17:40:17</td>\n",
       "    </tr>\n",
       "    <tr>\n",
       "      <th>4</th>\n",
       "      <td>2016-03-31 17:25:20</td>\n",
       "      <td>Skoda_Fabia_1.4_TDI_PD_Classic</td>\n",
       "      <td>privat</td>\n",
       "      <td>Angebot</td>\n",
       "      <td>3600</td>\n",
       "      <td>test</td>\n",
       "      <td>kleinwagen</td>\n",
       "      <td>2008</td>\n",
       "      <td>manuell</td>\n",
       "      <td>69</td>\n",
       "      <td>fabia</td>\n",
       "      <td>90000</td>\n",
       "      <td>7</td>\n",
       "      <td>diesel</td>\n",
       "      <td>skoda</td>\n",
       "      <td>nein</td>\n",
       "      <td>2016-03-31 00:00:00</td>\n",
       "      <td>0</td>\n",
       "      <td>60437</td>\n",
       "      <td>2016-04-06 10:17:21</td>\n",
       "    </tr>\n",
       "  </tbody>\n",
       "</table>\n",
       "</div>"
      ],
      "text/plain": [
       "          date_crawled                            name  seller offer_type  \\\n",
       "0  2016-03-24 11:52:17                      Golf_3_1.6  privat    Angebot   \n",
       "1  2016-03-24 10:58:45            A5_Sportback_2.7_Tdi  privat    Angebot   \n",
       "2  2016-03-14 12:52:21  Jeep_Grand_Cherokee_\"Overland\"  privat    Angebot   \n",
       "3  2016-03-17 16:54:04              GOLF_4_1_4__3TÜRER  privat    Angebot   \n",
       "4  2016-03-31 17:25:20  Skoda_Fabia_1.4_TDI_PD_Classic  privat    Angebot   \n",
       "\n",
       "   price abtest vehicle_type  registration_year    gearbox  power_PS  model  \\\n",
       "0    480   test          NaN               1993    manuell         0   golf   \n",
       "1  18300   test        coupe               2011    manuell       190    NaN   \n",
       "2   9800   test          suv               2004  automatik       163  grand   \n",
       "3   1500   test   kleinwagen               2001    manuell        75   golf   \n",
       "4   3600   test   kleinwagen               2008    manuell        69  fabia   \n",
       "\n",
       "   kilometer  registration_month fuel_type       brand unrepaired_damage  \\\n",
       "0     150000                   0    benzin  volkswagen               NaN   \n",
       "1     125000                   5    diesel        audi                ja   \n",
       "2     125000                   8    diesel        jeep               NaN   \n",
       "3     150000                   6    benzin  volkswagen              nein   \n",
       "4      90000                   7    diesel       skoda              nein   \n",
       "\n",
       "            ad_created  num_of_pictures  postal_code            last_seen  \n",
       "0  2016-03-24 00:00:00                0        70435  2016-04-07 03:16:57  \n",
       "1  2016-03-24 00:00:00                0        66954  2016-04-07 01:46:50  \n",
       "2  2016-03-14 00:00:00                0        90480  2016-04-05 12:47:46  \n",
       "3  2016-03-17 00:00:00                0        91074  2016-03-17 17:40:17  \n",
       "4  2016-03-31 00:00:00                0        60437  2016-04-06 10:17:21  "
      ]
     },
     "execution_count": 7,
     "metadata": {},
     "output_type": "execute_result"
    }
   ],
   "source": [
    "autos.head()"
   ]
  },
  {
   "cell_type": "markdown",
   "id": "f4b41688-ba15-4492-b6ce-567cb68dd96e",
   "metadata": {},
   "source": [
    "# Initial Exploration and Cleaning"
   ]
  },
  {
   "cell_type": "markdown",
   "id": "200889d3-a278-4c02-89a3-7fbc62e28d11",
   "metadata": {},
   "source": [
    "Now let's do some basic data exploration to determine what other cleaning tasks need to be done. Initially, we will look for:\n",
    "\n",
    "- Text columns where all or almost all values are the same. These can often be dropped as they don;t have useful information for analysis.\n",
    "- Examples of numeric data stored as text which can be cleaned and converted.\n",
    "\n",
    "The following methods are helpful for exploring the data:\n",
    "\n",
    "- `DataFrame.describe()` (with `include='all'` to get both categorical and numeric columns).\n",
    "- `Series.value_counts()` and `Series.head()` if any columns need a closer look."
   ]
  },
  {
   "cell_type": "code",
   "execution_count": 8,
   "id": "20ef7b0b-88e8-4f59-bc49-12ebecbb9363",
   "metadata": {},
   "outputs": [
    {
     "data": {
      "text/html": [
       "<div>\n",
       "<style scoped>\n",
       "    .dataframe tbody tr th:only-of-type {\n",
       "        vertical-align: middle;\n",
       "    }\n",
       "\n",
       "    .dataframe tbody tr th {\n",
       "        vertical-align: top;\n",
       "    }\n",
       "\n",
       "    .dataframe thead th {\n",
       "        text-align: right;\n",
       "    }\n",
       "</style>\n",
       "<table border=\"1\" class=\"dataframe\">\n",
       "  <thead>\n",
       "    <tr style=\"text-align: right;\">\n",
       "      <th></th>\n",
       "      <th>date_crawled</th>\n",
       "      <th>name</th>\n",
       "      <th>seller</th>\n",
       "      <th>offer_type</th>\n",
       "      <th>price</th>\n",
       "      <th>abtest</th>\n",
       "      <th>vehicle_type</th>\n",
       "      <th>registration_year</th>\n",
       "      <th>gearbox</th>\n",
       "      <th>power_PS</th>\n",
       "      <th>model</th>\n",
       "      <th>kilometer</th>\n",
       "      <th>registration_month</th>\n",
       "      <th>fuel_type</th>\n",
       "      <th>brand</th>\n",
       "      <th>unrepaired_damage</th>\n",
       "      <th>ad_created</th>\n",
       "      <th>num_of_pictures</th>\n",
       "      <th>postal_code</th>\n",
       "      <th>last_seen</th>\n",
       "    </tr>\n",
       "  </thead>\n",
       "  <tbody>\n",
       "    <tr>\n",
       "      <th>count</th>\n",
       "      <td>371528</td>\n",
       "      <td>371528</td>\n",
       "      <td>371528</td>\n",
       "      <td>371528</td>\n",
       "      <td>3.715280e+05</td>\n",
       "      <td>371528</td>\n",
       "      <td>333659</td>\n",
       "      <td>371528.000000</td>\n",
       "      <td>351319</td>\n",
       "      <td>371528.000000</td>\n",
       "      <td>351044</td>\n",
       "      <td>371528.000000</td>\n",
       "      <td>371528.000000</td>\n",
       "      <td>338142</td>\n",
       "      <td>371528</td>\n",
       "      <td>299468</td>\n",
       "      <td>371528</td>\n",
       "      <td>371528.0</td>\n",
       "      <td>371528.00000</td>\n",
       "      <td>371528</td>\n",
       "    </tr>\n",
       "    <tr>\n",
       "      <th>unique</th>\n",
       "      <td>280500</td>\n",
       "      <td>233531</td>\n",
       "      <td>2</td>\n",
       "      <td>2</td>\n",
       "      <td>NaN</td>\n",
       "      <td>2</td>\n",
       "      <td>8</td>\n",
       "      <td>NaN</td>\n",
       "      <td>2</td>\n",
       "      <td>NaN</td>\n",
       "      <td>251</td>\n",
       "      <td>NaN</td>\n",
       "      <td>NaN</td>\n",
       "      <td>7</td>\n",
       "      <td>40</td>\n",
       "      <td>2</td>\n",
       "      <td>114</td>\n",
       "      <td>NaN</td>\n",
       "      <td>NaN</td>\n",
       "      <td>182806</td>\n",
       "    </tr>\n",
       "    <tr>\n",
       "      <th>top</th>\n",
       "      <td>2016-03-24 14:49:47</td>\n",
       "      <td>Ford_Fiesta</td>\n",
       "      <td>privat</td>\n",
       "      <td>Angebot</td>\n",
       "      <td>NaN</td>\n",
       "      <td>test</td>\n",
       "      <td>limousine</td>\n",
       "      <td>NaN</td>\n",
       "      <td>manuell</td>\n",
       "      <td>NaN</td>\n",
       "      <td>golf</td>\n",
       "      <td>NaN</td>\n",
       "      <td>NaN</td>\n",
       "      <td>benzin</td>\n",
       "      <td>volkswagen</td>\n",
       "      <td>nein</td>\n",
       "      <td>2016-04-03 00:00:00</td>\n",
       "      <td>NaN</td>\n",
       "      <td>NaN</td>\n",
       "      <td>2016-04-07 06:45:59</td>\n",
       "    </tr>\n",
       "    <tr>\n",
       "      <th>freq</th>\n",
       "      <td>7</td>\n",
       "      <td>657</td>\n",
       "      <td>371525</td>\n",
       "      <td>371516</td>\n",
       "      <td>NaN</td>\n",
       "      <td>192585</td>\n",
       "      <td>95894</td>\n",
       "      <td>NaN</td>\n",
       "      <td>274214</td>\n",
       "      <td>NaN</td>\n",
       "      <td>30070</td>\n",
       "      <td>NaN</td>\n",
       "      <td>NaN</td>\n",
       "      <td>223857</td>\n",
       "      <td>79640</td>\n",
       "      <td>263182</td>\n",
       "      <td>14450</td>\n",
       "      <td>NaN</td>\n",
       "      <td>NaN</td>\n",
       "      <td>17</td>\n",
       "    </tr>\n",
       "    <tr>\n",
       "      <th>mean</th>\n",
       "      <td>NaN</td>\n",
       "      <td>NaN</td>\n",
       "      <td>NaN</td>\n",
       "      <td>NaN</td>\n",
       "      <td>1.729514e+04</td>\n",
       "      <td>NaN</td>\n",
       "      <td>NaN</td>\n",
       "      <td>2004.577997</td>\n",
       "      <td>NaN</td>\n",
       "      <td>115.549477</td>\n",
       "      <td>NaN</td>\n",
       "      <td>125618.688228</td>\n",
       "      <td>5.734445</td>\n",
       "      <td>NaN</td>\n",
       "      <td>NaN</td>\n",
       "      <td>NaN</td>\n",
       "      <td>NaN</td>\n",
       "      <td>0.0</td>\n",
       "      <td>50820.66764</td>\n",
       "      <td>NaN</td>\n",
       "    </tr>\n",
       "    <tr>\n",
       "      <th>std</th>\n",
       "      <td>NaN</td>\n",
       "      <td>NaN</td>\n",
       "      <td>NaN</td>\n",
       "      <td>NaN</td>\n",
       "      <td>3.587954e+06</td>\n",
       "      <td>NaN</td>\n",
       "      <td>NaN</td>\n",
       "      <td>92.866598</td>\n",
       "      <td>NaN</td>\n",
       "      <td>192.139578</td>\n",
       "      <td>NaN</td>\n",
       "      <td>40112.337051</td>\n",
       "      <td>3.712412</td>\n",
       "      <td>NaN</td>\n",
       "      <td>NaN</td>\n",
       "      <td>NaN</td>\n",
       "      <td>NaN</td>\n",
       "      <td>0.0</td>\n",
       "      <td>25799.08247</td>\n",
       "      <td>NaN</td>\n",
       "    </tr>\n",
       "    <tr>\n",
       "      <th>min</th>\n",
       "      <td>NaN</td>\n",
       "      <td>NaN</td>\n",
       "      <td>NaN</td>\n",
       "      <td>NaN</td>\n",
       "      <td>0.000000e+00</td>\n",
       "      <td>NaN</td>\n",
       "      <td>NaN</td>\n",
       "      <td>1000.000000</td>\n",
       "      <td>NaN</td>\n",
       "      <td>0.000000</td>\n",
       "      <td>NaN</td>\n",
       "      <td>5000.000000</td>\n",
       "      <td>0.000000</td>\n",
       "      <td>NaN</td>\n",
       "      <td>NaN</td>\n",
       "      <td>NaN</td>\n",
       "      <td>NaN</td>\n",
       "      <td>0.0</td>\n",
       "      <td>1067.00000</td>\n",
       "      <td>NaN</td>\n",
       "    </tr>\n",
       "    <tr>\n",
       "      <th>25%</th>\n",
       "      <td>NaN</td>\n",
       "      <td>NaN</td>\n",
       "      <td>NaN</td>\n",
       "      <td>NaN</td>\n",
       "      <td>1.150000e+03</td>\n",
       "      <td>NaN</td>\n",
       "      <td>NaN</td>\n",
       "      <td>1999.000000</td>\n",
       "      <td>NaN</td>\n",
       "      <td>70.000000</td>\n",
       "      <td>NaN</td>\n",
       "      <td>125000.000000</td>\n",
       "      <td>3.000000</td>\n",
       "      <td>NaN</td>\n",
       "      <td>NaN</td>\n",
       "      <td>NaN</td>\n",
       "      <td>NaN</td>\n",
       "      <td>0.0</td>\n",
       "      <td>30459.00000</td>\n",
       "      <td>NaN</td>\n",
       "    </tr>\n",
       "    <tr>\n",
       "      <th>50%</th>\n",
       "      <td>NaN</td>\n",
       "      <td>NaN</td>\n",
       "      <td>NaN</td>\n",
       "      <td>NaN</td>\n",
       "      <td>2.950000e+03</td>\n",
       "      <td>NaN</td>\n",
       "      <td>NaN</td>\n",
       "      <td>2003.000000</td>\n",
       "      <td>NaN</td>\n",
       "      <td>105.000000</td>\n",
       "      <td>NaN</td>\n",
       "      <td>150000.000000</td>\n",
       "      <td>6.000000</td>\n",
       "      <td>NaN</td>\n",
       "      <td>NaN</td>\n",
       "      <td>NaN</td>\n",
       "      <td>NaN</td>\n",
       "      <td>0.0</td>\n",
       "      <td>49610.00000</td>\n",
       "      <td>NaN</td>\n",
       "    </tr>\n",
       "    <tr>\n",
       "      <th>75%</th>\n",
       "      <td>NaN</td>\n",
       "      <td>NaN</td>\n",
       "      <td>NaN</td>\n",
       "      <td>NaN</td>\n",
       "      <td>7.200000e+03</td>\n",
       "      <td>NaN</td>\n",
       "      <td>NaN</td>\n",
       "      <td>2008.000000</td>\n",
       "      <td>NaN</td>\n",
       "      <td>150.000000</td>\n",
       "      <td>NaN</td>\n",
       "      <td>150000.000000</td>\n",
       "      <td>9.000000</td>\n",
       "      <td>NaN</td>\n",
       "      <td>NaN</td>\n",
       "      <td>NaN</td>\n",
       "      <td>NaN</td>\n",
       "      <td>0.0</td>\n",
       "      <td>71546.00000</td>\n",
       "      <td>NaN</td>\n",
       "    </tr>\n",
       "    <tr>\n",
       "      <th>max</th>\n",
       "      <td>NaN</td>\n",
       "      <td>NaN</td>\n",
       "      <td>NaN</td>\n",
       "      <td>NaN</td>\n",
       "      <td>2.147484e+09</td>\n",
       "      <td>NaN</td>\n",
       "      <td>NaN</td>\n",
       "      <td>9999.000000</td>\n",
       "      <td>NaN</td>\n",
       "      <td>20000.000000</td>\n",
       "      <td>NaN</td>\n",
       "      <td>150000.000000</td>\n",
       "      <td>12.000000</td>\n",
       "      <td>NaN</td>\n",
       "      <td>NaN</td>\n",
       "      <td>NaN</td>\n",
       "      <td>NaN</td>\n",
       "      <td>0.0</td>\n",
       "      <td>99998.00000</td>\n",
       "      <td>NaN</td>\n",
       "    </tr>\n",
       "  </tbody>\n",
       "</table>\n",
       "</div>"
      ],
      "text/plain": [
       "               date_crawled         name  seller offer_type         price  \\\n",
       "count                371528       371528  371528     371528  3.715280e+05   \n",
       "unique               280500       233531       2          2           NaN   \n",
       "top     2016-03-24 14:49:47  Ford_Fiesta  privat    Angebot           NaN   \n",
       "freq                      7          657  371525     371516           NaN   \n",
       "mean                    NaN          NaN     NaN        NaN  1.729514e+04   \n",
       "std                     NaN          NaN     NaN        NaN  3.587954e+06   \n",
       "min                     NaN          NaN     NaN        NaN  0.000000e+00   \n",
       "25%                     NaN          NaN     NaN        NaN  1.150000e+03   \n",
       "50%                     NaN          NaN     NaN        NaN  2.950000e+03   \n",
       "75%                     NaN          NaN     NaN        NaN  7.200000e+03   \n",
       "max                     NaN          NaN     NaN        NaN  2.147484e+09   \n",
       "\n",
       "        abtest vehicle_type  registration_year  gearbox       power_PS  \\\n",
       "count   371528       333659      371528.000000   351319  371528.000000   \n",
       "unique       2            8                NaN        2            NaN   \n",
       "top       test    limousine                NaN  manuell            NaN   \n",
       "freq    192585        95894                NaN   274214            NaN   \n",
       "mean       NaN          NaN        2004.577997      NaN     115.549477   \n",
       "std        NaN          NaN          92.866598      NaN     192.139578   \n",
       "min        NaN          NaN        1000.000000      NaN       0.000000   \n",
       "25%        NaN          NaN        1999.000000      NaN      70.000000   \n",
       "50%        NaN          NaN        2003.000000      NaN     105.000000   \n",
       "75%        NaN          NaN        2008.000000      NaN     150.000000   \n",
       "max        NaN          NaN        9999.000000      NaN   20000.000000   \n",
       "\n",
       "         model      kilometer  registration_month fuel_type       brand  \\\n",
       "count   351044  371528.000000       371528.000000    338142      371528   \n",
       "unique     251            NaN                 NaN         7          40   \n",
       "top       golf            NaN                 NaN    benzin  volkswagen   \n",
       "freq     30070            NaN                 NaN    223857       79640   \n",
       "mean       NaN  125618.688228            5.734445       NaN         NaN   \n",
       "std        NaN   40112.337051            3.712412       NaN         NaN   \n",
       "min        NaN    5000.000000            0.000000       NaN         NaN   \n",
       "25%        NaN  125000.000000            3.000000       NaN         NaN   \n",
       "50%        NaN  150000.000000            6.000000       NaN         NaN   \n",
       "75%        NaN  150000.000000            9.000000       NaN         NaN   \n",
       "max        NaN  150000.000000           12.000000       NaN         NaN   \n",
       "\n",
       "       unrepaired_damage           ad_created  num_of_pictures   postal_code  \\\n",
       "count             299468               371528         371528.0  371528.00000   \n",
       "unique                 2                  114              NaN           NaN   \n",
       "top                 nein  2016-04-03 00:00:00              NaN           NaN   \n",
       "freq              263182                14450              NaN           NaN   \n",
       "mean                 NaN                  NaN              0.0   50820.66764   \n",
       "std                  NaN                  NaN              0.0   25799.08247   \n",
       "min                  NaN                  NaN              0.0    1067.00000   \n",
       "25%                  NaN                  NaN              0.0   30459.00000   \n",
       "50%                  NaN                  NaN              0.0   49610.00000   \n",
       "75%                  NaN                  NaN              0.0   71546.00000   \n",
       "max                  NaN                  NaN              0.0   99998.00000   \n",
       "\n",
       "                  last_seen  \n",
       "count                371528  \n",
       "unique               182806  \n",
       "top     2016-04-07 06:45:59  \n",
       "freq                     17  \n",
       "mean                    NaN  \n",
       "std                     NaN  \n",
       "min                     NaN  \n",
       "25%                     NaN  \n",
       "50%                     NaN  \n",
       "75%                     NaN  \n",
       "max                     NaN  "
      ]
     },
     "execution_count": 8,
     "metadata": {},
     "output_type": "execute_result"
    }
   ],
   "source": [
    "# Look at descriptive statistics for all columns\n",
    "autos.describe(include='all')"
   ]
  },
  {
   "cell_type": "markdown",
   "id": "7d57e52d-2a77-4707-83ca-2f7fa61f14ff",
   "metadata": {},
   "source": [
    "We need to answer some questions before moving on:\n",
    "- Any columns that have mostly one value that are candidates to be dropped?\n",
    "`seller`, `offer_type`, and `num_of_pictures` look suspicious. The first two columns only have two unique values, while the latter only has \"0.0\".\n",
    "\n",
    "- Any columns that need more investigation?\n",
    "Perhaps we need to take a closer look on these three columns.\n",
    "\n",
    "- Any examples of numeric data stored as text that needs to be cleaned?\n",
    "No"
   ]
  },
  {
   "cell_type": "code",
   "execution_count": 9,
   "id": "9cc83947-c31e-439e-bb90-e3a6288467b6",
   "metadata": {},
   "outputs": [
    {
     "data": {
      "text/plain": [
       "privat        371525\n",
       "gewerblich         3\n",
       "Name: seller, dtype: int64"
      ]
     },
     "execution_count": 9,
     "metadata": {},
     "output_type": "execute_result"
    }
   ],
   "source": [
    "# See the 'seller' column\n",
    "autos['seller'].value_counts()"
   ]
  },
  {
   "cell_type": "markdown",
   "id": "83742276-5290-4b4e-a3f3-b9f136b00cb5",
   "metadata": {},
   "source": [
    "This doesn't give us any useful insights, since virtually all of the sellers are listed as \"privat,\" or private in English."
   ]
  },
  {
   "cell_type": "code",
   "execution_count": 10,
   "id": "43126b68-e714-462b-a58f-037c2cf7afa2",
   "metadata": {},
   "outputs": [
    {
     "data": {
      "text/plain": [
       "Angebot    371516\n",
       "Gesuch         12\n",
       "Name: offer_type, dtype: int64"
      ]
     },
     "execution_count": 10,
     "metadata": {},
     "output_type": "execute_result"
    }
   ],
   "source": [
    "# See the offer_type column\n",
    "autos['offer_type'].value_counts()"
   ]
  },
  {
   "cell_type": "markdown",
   "id": "bb31177a-746e-411a-9a78-1f2e76403acc",
   "metadata": {},
   "source": [
    "We can say the same for `offer_type` since one particular offer type dominates. Drop this column."
   ]
  },
  {
   "cell_type": "code",
   "execution_count": 11,
   "id": "63d9200c-72d5-421c-8380-bcd5ccf64b28",
   "metadata": {},
   "outputs": [
    {
     "data": {
      "text/plain": [
       "0    371528\n",
       "Name: num_of_pictures, dtype: int64"
      ]
     },
     "execution_count": 11,
     "metadata": {},
     "output_type": "execute_result"
    }
   ],
   "source": [
    "# See the num_of_pictures column\n",
    "autos['num_of_pictures'].value_counts()"
   ]
  },
  {
   "cell_type": "markdown",
   "id": "8766bb19-c66e-4574-b5b0-77e3439bc557",
   "metadata": {},
   "source": [
    "Since all three columns don't yield any useful insights, we'll also drop these columns."
   ]
  },
  {
   "cell_type": "code",
   "execution_count": 12,
   "id": "febd2c71-46a2-419c-900a-be74e07144ab",
   "metadata": {},
   "outputs": [],
   "source": [
    "# Drop three columns\n",
    "autos = autos.drop(['seller', 'offer_type', 'num_of_pictures'], axis=1)"
   ]
  },
  {
   "cell_type": "code",
   "execution_count": 13,
   "id": "a3422f01-021f-40c9-90d4-8a71ccaef1d8",
   "metadata": {},
   "outputs": [
    {
     "data": {
      "text/plain": [
       "Index(['date_crawled', 'name', 'price', 'abtest', 'vehicle_type',\n",
       "       'registration_year', 'gearbox', 'power_PS', 'model', 'kilometer',\n",
       "       'registration_month', 'fuel_type', 'brand', 'unrepaired_damage',\n",
       "       'ad_created', 'postal_code', 'last_seen'],\n",
       "      dtype='object')"
      ]
     },
     "execution_count": 13,
     "metadata": {},
     "output_type": "execute_result"
    }
   ],
   "source": [
    "# Check the column again\n",
    "autos.columns"
   ]
  },
  {
   "cell_type": "markdown",
   "id": "e45d9482-c7c3-4fab-b3d9-30aeb2aa17f7",
   "metadata": {},
   "source": [
    "# Exploring the Kilometer and Price Columns"
   ]
  },
  {
   "cell_type": "markdown",
   "id": "0792bff8-c2a8-434f-ae3f-f8bd2f06d49f",
   "metadata": {},
   "source": [
    "We are going to explore the `kilometer` and `price` columns. We'll take these steps below:\n",
    "- Analyze the columns using minimum and maximum values and look for any values that look unrealistically high or low (outliers) that we might want to remove\n",
    "- We'll use:\n",
    " - `Series.unique().shape` to see how many unique values\n",
    " - `Series.describe()` to view min/max/median/mean etc\n",
    " - `Series.value_counts()` with some variations:\n",
    "  - chained to `.head()` if there are lots of values\n",
    "  - Because `Series.value_counts()` returns a series, we can use `Series.sort_index()` with `ascending=` `True` or `False` to view the highest and lowest values with their counts (can also chain to `head()` here).\n",
    " - When removing outliers, we can do `df[df[\"col\"].between(x,y)]`"
   ]
  },
  {
   "cell_type": "code",
   "execution_count": 14,
   "id": "1799fe8a-cd76-4388-a8d2-2401fc2d36cd",
   "metadata": {},
   "outputs": [
    {
     "name": "stdout",
     "output_type": "stream",
     "text": [
      "The shape of unique values for both kilometers and price is (13,) and (5597,), respectively\n"
     ]
    }
   ],
   "source": [
    "# See how many unique values\n",
    "print('The shape of unique values for both kilometers and price is {} and {}, respectively'.format(autos['kilometer'].unique().shape, autos['price'].unique().shape))"
   ]
  },
  {
   "cell_type": "code",
   "execution_count": 15,
   "id": "e22db1a4-c096-4e80-9d2c-2a983efbcdbc",
   "metadata": {},
   "outputs": [
    {
     "data": {
      "text/plain": [
       "150000    240797\n",
       "125000     38067\n",
       "100000     15920\n",
       "90000      12523\n",
       "80000      11053\n",
       "70000       9773\n",
       "60000       8669\n",
       "50000       7615\n",
       "5000        7069\n",
       "40000       6376\n",
       "30000       6041\n",
       "20000       5676\n",
       "10000       1949\n",
       "Name: kilometer, dtype: int64"
      ]
     },
     "execution_count": 15,
     "metadata": {},
     "output_type": "execute_result"
    }
   ],
   "source": [
    "# Calculating the number of cars based on kilometers\n",
    "autos['kilometer'].value_counts()"
   ]
  },
  {
   "cell_type": "markdown",
   "id": "81909a98-f183-4e3b-bf5f-7d0d7ba64981",
   "metadata": {},
   "source": [
    "The majority of cars have run over 100,000 kilometers. The fact that sellers had to select pre-set options for this firled helps explain why the data were listed in round numbers."
   ]
  },
  {
   "cell_type": "markdown",
   "id": "6c485fcd-ad5e-4341-b218-153e60ce0710",
   "metadata": {},
   "source": [
    "Now, let's look at the `price` columns."
   ]
  },
  {
   "cell_type": "code",
   "execution_count": 16,
   "id": "86419191-9740-45a1-a506-4b1bb8daad1a",
   "metadata": {},
   "outputs": [
    {
     "data": {
      "text/plain": [
       "count    3.715280e+05\n",
       "mean     1.729514e+04\n",
       "std      3.587954e+06\n",
       "min      0.000000e+00\n",
       "25%      1.150000e+03\n",
       "50%      2.950000e+03\n",
       "75%      7.200000e+03\n",
       "max      2.147484e+09\n",
       "Name: price, dtype: float64"
      ]
     },
     "execution_count": 16,
     "metadata": {},
     "output_type": "execute_result"
    }
   ],
   "source": [
    "# Look into price data\n",
    "autos['price'].describe()"
   ]
  },
  {
   "cell_type": "code",
   "execution_count": 52,
   "id": "60f7040a-a96a-4895-9d3a-e468834b82f9",
   "metadata": {},
   "outputs": [
    {
     "data": {
      "text/plain": [
       "0       10014\n",
       "500      5468\n",
       "1500     5093\n",
       "1000     4366\n",
       "1200     4332\n",
       "2500     4244\n",
       "3500     3653\n",
       "600      3636\n",
       "800      3581\n",
       "2000     3240\n",
       "999      3202\n",
       "750      3026\n",
       "650      2997\n",
       "4500     2929\n",
       "850      2798\n",
       "2200     2787\n",
       "700      2776\n",
       "1800     2745\n",
       "900      2664\n",
       "300      2649\n",
       "Name: price, dtype: int64"
      ]
     },
     "execution_count": 52,
     "metadata": {},
     "output_type": "execute_result"
    }
   ],
   "source": [
    "# Value_counts based on price\n",
    "autos['price'].value_counts().head(20)"
   ]
  },
  {
   "cell_type": "markdown",
   "id": "ed4dceeb-54dc-4890-a02a-4d6bd786763a",
   "metadata": {},
   "source": [
    "About 11,000 cars were listed at \"zero\" price. As such number only constitutes a small portion of the overall cars, we'll eliminate those with \"0\". For this matter, we are going to keep data points with prices between 0 and 350,000."
   ]
  },
  {
   "cell_type": "code",
   "execution_count": 18,
   "id": "ae6d155a-fc8f-4182-9de4-22ef0a615581",
   "metadata": {},
   "outputs": [
    {
     "data": {
      "text/plain": [
       "count    371413.000000\n",
       "mean       5727.498932\n",
       "std        8792.694663\n",
       "min           0.000000\n",
       "25%        1150.000000\n",
       "50%        2950.000000\n",
       "75%        7200.000000\n",
       "max      350000.000000\n",
       "Name: price, dtype: float64"
      ]
     },
     "execution_count": 18,
     "metadata": {},
     "output_type": "execute_result"
    }
   ],
   "source": [
    "autos = autos[autos['price'].between(0,350000)]\n",
    "autos['price'].describe()"
   ]
  },
  {
   "cell_type": "markdown",
   "id": "94e7208f-f37e-4b1b-843f-5be9de04c4e8",
   "metadata": {},
   "source": [
    "# Exploring the Date Column"
   ]
  },
  {
   "cell_type": "markdown",
   "id": "5e38fdba-2d99-4620-a13e-fa6b0d1862f2",
   "metadata": {},
   "source": [
    "Let's now move on to the date columns and understand the date range the data covers. Some of these columns were created by the crawler, and some came from the website itself.\n",
    "\n",
    "- `date_crawled` : added by the crawler\n",
    "- `last_seen` : added by the crawler\n",
    "- `ad_crawled` : from the wesbite\n",
    "- `registration_month` : from the website\n",
    "- `registration_year` : from the website"
   ]
  },
  {
   "cell_type": "markdown",
   "id": "e01ad9a8-9384-4b73-bac5-95db7c3e7e90",
   "metadata": {},
   "source": [
    "We'll start from the first three. Since the `date_crawled`, `last_seen`, and `ad_created` columns are all identified as string values by pandas, we need to convert those into a numerical representation so we can understand it quantitatively."
   ]
  },
  {
   "cell_type": "code",
   "execution_count": 19,
   "id": "674d9f79-1720-4ffb-a167-208d6f44310f",
   "metadata": {},
   "outputs": [
    {
     "data": {
      "text/html": [
       "<div>\n",
       "<style scoped>\n",
       "    .dataframe tbody tr th:only-of-type {\n",
       "        vertical-align: middle;\n",
       "    }\n",
       "\n",
       "    .dataframe tbody tr th {\n",
       "        vertical-align: top;\n",
       "    }\n",
       "\n",
       "    .dataframe thead th {\n",
       "        text-align: right;\n",
       "    }\n",
       "</style>\n",
       "<table border=\"1\" class=\"dataframe\">\n",
       "  <thead>\n",
       "    <tr style=\"text-align: right;\">\n",
       "      <th></th>\n",
       "      <th>date_crawled</th>\n",
       "      <th>last_seen</th>\n",
       "      <th>ad_created</th>\n",
       "    </tr>\n",
       "  </thead>\n",
       "  <tbody>\n",
       "    <tr>\n",
       "      <th>0</th>\n",
       "      <td>2016-03-24 11:52:17</td>\n",
       "      <td>2016-04-07 03:16:57</td>\n",
       "      <td>2016-03-24 00:00:00</td>\n",
       "    </tr>\n",
       "    <tr>\n",
       "      <th>1</th>\n",
       "      <td>2016-03-24 10:58:45</td>\n",
       "      <td>2016-04-07 01:46:50</td>\n",
       "      <td>2016-03-24 00:00:00</td>\n",
       "    </tr>\n",
       "    <tr>\n",
       "      <th>2</th>\n",
       "      <td>2016-03-14 12:52:21</td>\n",
       "      <td>2016-04-05 12:47:46</td>\n",
       "      <td>2016-03-14 00:00:00</td>\n",
       "    </tr>\n",
       "    <tr>\n",
       "      <th>3</th>\n",
       "      <td>2016-03-17 16:54:04</td>\n",
       "      <td>2016-03-17 17:40:17</td>\n",
       "      <td>2016-03-17 00:00:00</td>\n",
       "    </tr>\n",
       "    <tr>\n",
       "      <th>4</th>\n",
       "      <td>2016-03-31 17:25:20</td>\n",
       "      <td>2016-04-06 10:17:21</td>\n",
       "      <td>2016-03-31 00:00:00</td>\n",
       "    </tr>\n",
       "  </tbody>\n",
       "</table>\n",
       "</div>"
      ],
      "text/plain": [
       "          date_crawled            last_seen           ad_created\n",
       "0  2016-03-24 11:52:17  2016-04-07 03:16:57  2016-03-24 00:00:00\n",
       "1  2016-03-24 10:58:45  2016-04-07 01:46:50  2016-03-24 00:00:00\n",
       "2  2016-03-14 12:52:21  2016-04-05 12:47:46  2016-03-14 00:00:00\n",
       "3  2016-03-17 16:54:04  2016-03-17 17:40:17  2016-03-17 00:00:00\n",
       "4  2016-03-31 17:25:20  2016-04-06 10:17:21  2016-03-31 00:00:00"
      ]
     },
     "execution_count": 19,
     "metadata": {},
     "output_type": "execute_result"
    }
   ],
   "source": [
    "# Examine how those three columns are formatted\n",
    "autos[['date_crawled', 'last_seen', 'ad_created']][0:5]"
   ]
  },
  {
   "cell_type": "code",
   "execution_count": 20,
   "id": "f74b9e5f-a607-4793-ab1c-0c45ecfe72aa",
   "metadata": {},
   "outputs": [
    {
     "data": {
      "text/plain": [
       "2016-03-05    0.025551\n",
       "2016-03-06    0.014464\n",
       "2016-03-07    0.035699\n",
       "2016-03-08    0.033451\n",
       "2016-03-09    0.034213\n",
       "2016-03-10    0.032565\n",
       "2016-03-11    0.032724\n",
       "2016-03-12    0.036194\n",
       "2016-03-13    0.015740\n",
       "2016-03-14    0.036270\n",
       "2016-03-15    0.033456\n",
       "2016-03-16    0.030155\n",
       "2016-03-17    0.031657\n",
       "2016-03-18    0.013126\n",
       "2016-03-19    0.035295\n",
       "2016-03-20    0.036353\n",
       "2016-03-21    0.035726\n",
       "2016-03-22    0.032471\n",
       "2016-03-23    0.031972\n",
       "2016-03-24    0.029915\n",
       "2016-03-25    0.032936\n",
       "2016-03-26    0.031967\n",
       "2016-03-27    0.030274\n",
       "2016-03-28    0.035117\n",
       "2016-03-29    0.034170\n",
       "2016-03-30    0.033534\n",
       "2016-03-31    0.031878\n",
       "2016-04-01    0.034108\n",
       "2016-04-02    0.035077\n",
       "2016-04-03    0.038728\n",
       "2016-04-04    0.037616\n",
       "2016-04-05    0.012819\n",
       "2016-04-06    0.003164\n",
       "2016-04-07    0.001618\n",
       "Name: date_crawled, dtype: float64"
      ]
     },
     "execution_count": 20,
     "metadata": {},
     "output_type": "execute_result"
    }
   ],
   "source": [
    "# Select the first 10 characters (date) and calculate the distribution of values\n",
    "autos['date_crawled'].str[:10].value_counts(normalize=True, dropna=False).sort_index()"
   ]
  },
  {
   "cell_type": "markdown",
   "id": "f18b5b7b-035b-48a3-b511-7179f7f89b7c",
   "metadata": {},
   "source": [
    "This shows that the crawler \"crawled\" the data roughly similar number of data points across the date."
   ]
  },
  {
   "cell_type": "code",
   "execution_count": 21,
   "id": "8cf5e969-d264-4a9a-bd96-831b54fa8138",
   "metadata": {},
   "outputs": [
    {
     "data": {
      "text/plain": [
       "2016-03-05    0.001290\n",
       "2016-03-06    0.004136\n",
       "2016-03-07    0.005264\n",
       "2016-03-08    0.008053\n",
       "2016-03-09    0.009994\n",
       "2016-03-10    0.011564\n",
       "2016-03-11    0.013047\n",
       "2016-03-12    0.023400\n",
       "2016-03-13    0.008492\n",
       "2016-03-14    0.012299\n",
       "2016-03-15    0.016410\n",
       "2016-03-16    0.016424\n",
       "2016-03-17    0.028755\n",
       "2016-03-18    0.006925\n",
       "2016-03-19    0.016313\n",
       "2016-03-20    0.019905\n",
       "2016-03-21    0.020131\n",
       "2016-03-22    0.020608\n",
       "2016-03-23    0.018150\n",
       "2016-03-24    0.019237\n",
       "2016-03-25    0.019097\n",
       "2016-03-26    0.016163\n",
       "2016-03-27    0.016911\n",
       "2016-03-28    0.022272\n",
       "2016-03-29    0.023311\n",
       "2016-03-30    0.023858\n",
       "2016-03-31    0.024243\n",
       "2016-04-01    0.024019\n",
       "2016-04-02    0.025005\n",
       "2016-04-03    0.025352\n",
       "2016-04-04    0.025661\n",
       "2016-04-05    0.126202\n",
       "2016-04-06    0.217844\n",
       "2016-04-07    0.129667\n",
       "Name: last_seen, dtype: float64"
      ]
     },
     "execution_count": 21,
     "metadata": {},
     "output_type": "execute_result"
    }
   ],
   "source": [
    "autos['last_seen'].str[:10].value_counts(normalize=True, dropna=False).sort_index()"
   ]
  },
  {
   "cell_type": "markdown",
   "id": "28912243-9f97-405b-9e41-086df732a182",
   "metadata": {},
   "source": [
    "We notice that there is a surge in the last couple of days within the observation period. Were those ads canceled during those days? There is no strong argument that can help explain this phenomenon, unless this is because the period of crawling has ended."
   ]
  },
  {
   "cell_type": "code",
   "execution_count": 22,
   "id": "b1735c37-23ac-41f9-a15a-a0bc1ce2a678",
   "metadata": {},
   "outputs": [
    {
     "data": {
      "text/plain": [
       "2014-03-10    0.000003\n",
       "2015-03-20    0.000003\n",
       "2015-06-11    0.000003\n",
       "2015-06-18    0.000003\n",
       "2015-08-07    0.000003\n",
       "                ...   \n",
       "2016-04-03    0.038887\n",
       "2016-04-04    0.037745\n",
       "2016-04-05    0.011650\n",
       "2016-04-06    0.003156\n",
       "2016-04-07    0.001556\n",
       "Name: ad_created, Length: 114, dtype: float64"
      ]
     },
     "execution_count": 22,
     "metadata": {},
     "output_type": "execute_result"
    }
   ],
   "source": [
    "autos['ad_created'].str[:10].value_counts(normalize=True, dropna=False).sort_index()"
   ]
  },
  {
   "cell_type": "markdown",
   "id": "f4c445bb-a09e-4d40-9225-aac1d8318173",
   "metadata": {},
   "source": [
    "Lastly, the `ad_created` column doesn't really indicate anything other than more ads were created towards the end of the crawling period. Let's now understand the distribution of `registration_year`."
   ]
  },
  {
   "cell_type": "code",
   "execution_count": 23,
   "id": "4c64bcac-7de1-411a-bed5-f5b89405a6f7",
   "metadata": {},
   "outputs": [
    {
     "data": {
      "text/plain": [
       "count    371413.000000\n",
       "mean       2004.561152\n",
       "std          91.937676\n",
       "min        1000.000000\n",
       "25%        1999.000000\n",
       "50%        2003.000000\n",
       "75%        2008.000000\n",
       "max        9999.000000\n",
       "Name: registration_year, dtype: float64"
      ]
     },
     "execution_count": 23,
     "metadata": {},
     "output_type": "execute_result"
    }
   ],
   "source": [
    "autos['registration_year'].describe()"
   ]
  },
  {
   "cell_type": "markdown",
   "id": "c007564e-897c-4ccc-81ce-93f2e12c8c9d",
   "metadata": {},
   "source": [
    "There are likely incorrect data, since it is impossible for a car to be registered at year 1000. Cars had not even been invented back then! And the year 9999 are many years into the future. Thus, we are going to deal with those incorrect data."
   ]
  },
  {
   "cell_type": "markdown",
   "id": "170be065-889c-4705-942c-90455e804c02",
   "metadata": {},
   "source": [
    "# Dealing with Incorrect Registration Year Data"
   ]
  },
  {
   "cell_type": "markdown",
   "id": "fc5707e8-2a8c-44e1-8ce3-11b7b5472f00",
   "metadata": {},
   "source": [
    "Since the listing was done in 2016, any vehicle with a registration year above 2016 is definitely inaccurate. Thus, we are going to count the number of listings with cars that fall outside the 1900-2016 interval, and see if it is safe to remove those rows entirely, or if we need more custom logic. Let's calculate the number of cars that fall outside the previously mentioned interval."
   ]
  },
  {
   "cell_type": "code",
   "execution_count": 24,
   "id": "b72c9482-1c9e-4e66-8cb7-8bac5ffef609",
   "metadata": {},
   "outputs": [
    {
     "data": {
      "text/plain": [
       "2017    10542\n",
       "2018     3991\n",
       "1000       38\n",
       "2019       26\n",
       "9999       26\n",
       "5000       18\n",
       "3000        7\n",
       "6000        6\n",
       "1500        5\n",
       "1800        5\n",
       "9000        5\n",
       "2500        4\n",
       "7000        4\n",
       "1234        4\n",
       "1111        3\n",
       "4000        3\n",
       "5555        2\n",
       "5911        2\n",
       "7500        2\n",
       "1600        2\n",
       "2222        2\n",
       "1300        2\n",
       "4500        2\n",
       "8000        2\n",
       "8888        2\n",
       "2800        2\n",
       "8455        1\n",
       "1688        1\n",
       "9996        1\n",
       "1039        1\n",
       "1602        1\n",
       "7800        1\n",
       "5600        1\n",
       "9229        1\n",
       "7777        1\n",
       "7100        1\n",
       "8200        1\n",
       "1253        1\n",
       "3800        1\n",
       "9450        1\n",
       "1400        1\n",
       "3200        1\n",
       "2200        1\n",
       "4100        1\n",
       "2066        1\n",
       "5300        1\n",
       "2900        1\n",
       "5900        1\n",
       "1200        1\n",
       "6200        1\n",
       "8500        1\n",
       "1255        1\n",
       "3700        1\n",
       "4800        1\n",
       "6500        1\n",
       "2290        1\n",
       "1001        1\n",
       "3500        1\n",
       "Name: registration_year, dtype: int64"
      ]
     },
     "execution_count": 24,
     "metadata": {},
     "output_type": "execute_result"
    }
   ],
   "source": [
    "# Check the number of cars that fall outside the interval\n",
    "autos[(autos['registration_year'] < 1900) | (autos['registration_year'] > 2016)]['registration_year'].value_counts()"
   ]
  },
  {
   "cell_type": "markdown",
   "id": "bebde18d-9069-4676-a5d6-8abd005d49ae",
   "metadata": {},
   "source": [
    "So there are almost 15,000 data points that have incorrect registration year. This is only equal to roughly 4% of total data. Thus, we are going to remove those values."
   ]
  },
  {
   "cell_type": "code",
   "execution_count": 25,
   "id": "cbe7cb63-d6eb-4564-a838-0d7aecb2f86a",
   "metadata": {},
   "outputs": [],
   "source": [
    "# Remove values that fall outside the interval\n",
    "autos = autos[autos['registration_year'].between(1900,2016)]"
   ]
  },
  {
   "cell_type": "code",
   "execution_count": 26,
   "id": "c213a68f-07c9-42ab-9996-f98aaa98e5f6",
   "metadata": {},
   "outputs": [
    {
     "data": {
      "text/plain": [
       "2000    0.068802\n",
       "1999    0.063823\n",
       "2005    0.062556\n",
       "2006    0.056707\n",
       "2001    0.056674\n",
       "2003    0.055709\n",
       "2004    0.055353\n",
       "2002    0.053794\n",
       "1998    0.050320\n",
       "2007    0.049547\n",
       "Name: registration_year, dtype: float64"
      ]
     },
     "execution_count": 26,
     "metadata": {},
     "output_type": "execute_result"
    }
   ],
   "source": [
    "# Calculate the distribution of the remaining values\n",
    "autos['registration_year'].value_counts(normalize=True).head(10)"
   ]
  },
  {
   "cell_type": "code",
   "execution_count": 27,
   "id": "372e02bd-5785-4d03-91e8-e006c2147d64",
   "metadata": {},
   "outputs": [
    {
     "data": {
      "text/plain": [
       "1928    0.000006\n",
       "1946    0.000006\n",
       "1944    0.000006\n",
       "1927    0.000006\n",
       "1940    0.000006\n",
       "1911    0.000003\n",
       "1919    0.000003\n",
       "1915    0.000003\n",
       "1920    0.000003\n",
       "1925    0.000003\n",
       "Name: registration_year, dtype: float64"
      ]
     },
     "execution_count": 27,
     "metadata": {},
     "output_type": "execute_result"
    }
   ],
   "source": [
    "autos['registration_year'].value_counts(normalize=True).tail(10)"
   ]
  },
  {
   "cell_type": "markdown",
   "id": "6fb91009-94ad-45c3-98b7-ec5d3ea4dc53",
   "metadata": {},
   "source": [
    "The majority of cars were registered in the 1990s and 2000s, while those that were registered early in the century only comprised of a small portion of the overall data."
   ]
  },
  {
   "cell_type": "markdown",
   "id": "5af717e1-b490-4d0e-9d6b-11251687d470",
   "metadata": {},
   "source": [
    "# Exploring Price by Brand"
   ]
  },
  {
   "cell_type": "markdown",
   "id": "04f9260b-4e9a-4c05-8027-1531ca8a2a5b",
   "metadata": {},
   "source": [
    "When working with data on cars, it's natural to explore variations across different car brands. We can use aggregation to understand the `brand` column. Here is the process:\n",
    "\n",
    "- Identify the unique values we want to aggregate by\n",
    "- Create an empty dictionary to store our aggregate data\n",
    "- Loop over the unique values, and for each: 1) Subset the dataframe by the unique values, 2) Calculate the mean of whichever column we're interested in, 3) Assign the val/mean to the dict as k/v."
   ]
  },
  {
   "cell_type": "code",
   "execution_count": 28,
   "id": "559d23ba-ece4-42e9-ab9f-1bef2faa6ddc",
   "metadata": {},
   "outputs": [
    {
     "data": {
      "text/plain": [
       "volkswagen        0.212396\n",
       "bmw               0.109697\n",
       "opel              0.107092\n",
       "mercedes_benz     0.095964\n",
       "audi              0.089356\n",
       "ford              0.068856\n",
       "renault           0.047573\n",
       "peugeot           0.029868\n",
       "fiat              0.025763\n",
       "seat              0.018636\n",
       "skoda             0.015412\n",
       "mazda             0.015350\n",
       "smart             0.014108\n",
       "citroen           0.013875\n",
       "nissan            0.013573\n",
       "toyota            0.012751\n",
       "sonstige_autos    0.010584\n",
       "hyundai           0.009833\n",
       "mini              0.009213\n",
       "volvo             0.009132\n",
       "Name: brand, dtype: float64"
      ]
     },
     "execution_count": 28,
     "metadata": {},
     "output_type": "execute_result"
    }
   ],
   "source": [
    "# Explore the unique values in the brand column and select the top 20 brands\n",
    "autos['brand'].value_counts(normalize=True).head(20)"
   ]
  },
  {
   "cell_type": "markdown",
   "id": "0d992d7c-5737-4286-bb2e-6eaa8e5f6cab",
   "metadata": {},
   "source": [
    "So, we have chosen the top 20 brands based on the number of cars of that brand as a % of total listed cars. We can see from the results above that only Volkswagen, BMW, and Opel have more than 10% of the portion, while the others seem to only have miniscule portion. We can limit these brands to more than 5%."
   ]
  },
  {
   "cell_type": "code",
   "execution_count": 39,
   "id": "a250ac64-65be-4037-963c-f4c02f404871",
   "metadata": {},
   "outputs": [],
   "source": [
    "# Create an empty dictionary and loop over the selected brands\n",
    "aggregate_price = {}\n",
    "selected_brands = ['volkswagen', 'bmw', 'opel', 'mercedes_benz', 'audi', 'ford']\n",
    "\n",
    "for brand in selected_brands:\n",
    "    brand_only = autos[autos['brand'] == brand]\n",
    "    mean_price = brand_only['price'].mean()\n",
    "    aggregate_price[brand] = int(mean_price)"
   ]
  },
  {
   "cell_type": "code",
   "execution_count": 41,
   "id": "af1371d9-b629-48cf-924b-8b3c9beefb34",
   "metadata": {},
   "outputs": [
    {
     "data": {
      "text/plain": [
       "{'volkswagen': 5231,\n",
       " 'bmw': 8224,\n",
       " 'opel': 2870,\n",
       " 'mercedes_benz': 8387,\n",
       " 'audi': 8849,\n",
       " 'ford': 3595}"
      ]
     },
     "execution_count": 41,
     "metadata": {},
     "output_type": "execute_result"
    }
   ],
   "source": [
    "# Checking the dictionary\n",
    "aggregate_price"
   ]
  },
  {
   "cell_type": "markdown",
   "id": "219c4ef3-b4a7-4b09-b887-ec683a14a7c6",
   "metadata": {},
   "source": [
    "Audi, Mercedes Benz, and BMW are the most expensive ones, on average. Ford and Opel are less expensive, while Volkswagen is in between."
   ]
  },
  {
   "cell_type": "markdown",
   "id": "bbef52fa-004f-470a-8bff-3822341fc9e8",
   "metadata": {},
   "source": [
    "# Storing Aggregate Data in a DataFrame"
   ]
  },
  {
   "cell_type": "markdown",
   "id": "fef0bbb2-6b37-430a-917a-b8dc8b1759ef",
   "metadata": {},
   "source": [
    "For the top 6 brands, we are going to use aggregation to understand the average mileage for those cars and if there's any visible link with mean price. We'll combine the data from both series objects into a single dataframe (with a shared index) and display the dataframe directly."
   ]
  },
  {
   "cell_type": "code",
   "execution_count": 43,
   "id": "fde09dab-052e-4e98-a7a2-5796d8afc60f",
   "metadata": {},
   "outputs": [],
   "source": [
    "# Create an empty dictionary and loop over the selected brands\n",
    "aggregate_kilometer = {}\n",
    "selected_brands = ['volkswagen', 'bmw', 'opel', 'mercedes_benz', 'audi', 'ford']\n",
    "\n",
    "for brand in selected_brands:\n",
    "    brand_only = autos[autos['brand'] == brand]\n",
    "    mean_kilometer = brand_only['kilometer'].mean()\n",
    "    aggregate_kilometer[brand] = int(mean_kilometer)"
   ]
  },
  {
   "cell_type": "code",
   "execution_count": 44,
   "id": "b71107bf-b0d0-4ad3-8d28-bc1cb795fb14",
   "metadata": {},
   "outputs": [
    {
     "data": {
      "text/plain": [
       "{'volkswagen': 128338,\n",
       " 'bmw': 132666,\n",
       " 'opel': 128756,\n",
       " 'mercedes_benz': 130585,\n",
       " 'audi': 129498,\n",
       " 'ford': 123617}"
      ]
     },
     "execution_count": 44,
     "metadata": {},
     "output_type": "execute_result"
    }
   ],
   "source": [
    "# Check the aggregate_kilometer dictionary\n",
    "aggregate_kilometer"
   ]
  },
  {
   "cell_type": "code",
   "execution_count": 45,
   "id": "dc3eba1a-9677-4fd5-b401-a9ccbaaf5c8d",
   "metadata": {},
   "outputs": [],
   "source": [
    "# Convert both dictionaries to series object using the series conductor\n",
    "price_series = pd.Series(aggregate_price)\n",
    "kilometer_series = pd.Series(aggregate_kilometer)"
   ]
  },
  {
   "cell_type": "code",
   "execution_count": 47,
   "id": "951051aa-d4f1-4c32-a1d5-abc8acc4566f",
   "metadata": {},
   "outputs": [],
   "source": [
    "# Create a dataframe from the first series object\n",
    "df = pd.DataFrame(price_series, columns=['mean_price'])"
   ]
  },
  {
   "cell_type": "code",
   "execution_count": 48,
   "id": "15d4f31a-679e-4909-8abb-cbac37c07eae",
   "metadata": {},
   "outputs": [],
   "source": [
    "# Assign the other series as a new column\n",
    "df['mean_kilometer'] = kilometer_series"
   ]
  },
  {
   "cell_type": "code",
   "execution_count": 50,
   "id": "c09149ce-96fc-4fdf-b973-be14cfeb784f",
   "metadata": {},
   "outputs": [],
   "source": [
    "# Add a column called price/km\n",
    "df['price per km'] = df['mean_price'] / df['mean_kilometer']"
   ]
  },
  {
   "cell_type": "code",
   "execution_count": 51,
   "id": "2167cf59-0f80-4f1d-9307-06190ec8e298",
   "metadata": {},
   "outputs": [
    {
     "name": "stdout",
     "output_type": "stream",
     "text": [
      "               mean_price  mean_kilometer  price per km\n",
      "volkswagen           5231          128338      0.040760\n",
      "bmw                  8224          132666      0.061990\n",
      "opel                 2870          128756      0.022290\n",
      "mercedes_benz        8387          130585      0.064226\n",
      "audi                 8849          129498      0.068333\n",
      "ford                 3595          123617      0.029082\n"
     ]
    }
   ],
   "source": [
    "# Print the dataframe\n",
    "print(df)"
   ]
  },
  {
   "cell_type": "markdown",
   "id": "072cf1cc-bc0d-4858-a6b5-ae257f7b506d",
   "metadata": {},
   "source": [
    "So, there is no significant correlation between price and mileage. If anything, this seems to be positively correlated. For instance, BMW, Audi, and Mercedes Benz are on the expensive side of the spectrum, but mileage-wise, they are also the highest. Value-wise based on price per km, buying an Opel seems to be worth it."
   ]
  }
 ],
 "metadata": {
  "kernelspec": {
   "display_name": "Python 3 (ipykernel)",
   "language": "python",
   "name": "python3"
  },
  "language_info": {
   "codemirror_mode": {
    "name": "ipython",
    "version": 3
   },
   "file_extension": ".py",
   "mimetype": "text/x-python",
   "name": "python",
   "nbconvert_exporter": "python",
   "pygments_lexer": "ipython3",
   "version": "3.9.12"
  }
 },
 "nbformat": 4,
 "nbformat_minor": 5
}
