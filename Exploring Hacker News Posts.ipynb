{
 "cells": [
  {
   "cell_type": "markdown",
   "id": "47bc8484-a410-41ab-b4c6-4d9fc2037215",
   "metadata": {},
   "source": [
    "## Exploring Hacker News Posts"
   ]
  },
  {
   "cell_type": "markdown",
   "id": "a0f41923-4f1c-4770-940b-0f4e64b82787",
   "metadata": {},
   "source": [
    "In this project, we will be working with a dataset of submissions to popular technology site [Hacker News](https://news.ycombinator.com/). Hacker News is virtually a Reddit-like forum, but is extremely popular in the technology and startup communities. We are interested in posts with titles that begin with either `Ask HN` or `Show HN`. Users submit `Ask HN` posts to ask the Hacker News community a specific question, while users will submit `Show HN` posts to show a project, product, or just something interesting."
   ]
  },
  {
   "attachments": {
    "a2a78713-e6af-4c9a-87eb-5bc401aa500c.jpg": {
     "image/jpeg": "[encoded data removed]"
    }
   },
   "cell_type": "markdown",
   "id": "dd11ad7d-8308-444b-8271-52ef6d87ec2b",
   "metadata": {},
   "source": [
    "![hacker-news.jpg](attachment:a2a78713-e6af-4c9a-87eb-5bc401aa500c.jpg)"
   ]
  },
  {
   "cell_type": "markdown",
   "id": "6640add3-e2b8-4c83-8c1d-a216f81c76e8",
   "metadata": {},
   "source": [
    "The goal of this project is to answer the following questions:\n",
    "\n",
    "- Do `Ask HN` or `Show HN` receive more comments on average?\n",
    "- Do posts created at a certain time receive more comments on average?\n",
    "- Do `Ask HN` or `Show HN` receive more points on average?\n",
    "- Do posts created at a certain time receive more points on average?\n",
    "\n",
    "Let's start importing the libraries we need and \"reading\" the dataset into a list of lists. Please note that the dataset has been cleaned from nearly 300,000 rows to approximately 20,000 rows by removing all submissions that didn't receive any comments and then randomly sampling from the remaining submissions."
   ]
  },
  {
   "cell_type": "markdown",
   "id": "a0760bf4-cbe2-4bfc-a6b0-aa105db03d4c",
   "metadata": {},
   "source": [
    "# Introduction"
   ]
  },
  {
   "cell_type": "markdown",
   "id": "e8405d48-dd93-4d73-b256-4e49757e7eb3",
   "metadata": {},
   "source": [
    "We read the data, assign them to a variable, and print the first five rows."
   ]
  },
  {
   "cell_type": "code",
   "execution_count": 1,
   "id": "7b655f28-1042-4256-a35a-f2ea2dcc04cf",
   "metadata": {},
   "outputs": [
    {
     "data": {
      "text/plain": [
       "[['id', 'title', 'url', 'num_points', 'num_comments', 'author', 'created_at'],\n",
       " ['12224879',\n",
       "  'Interactive Dynamic Video',\n",
       "  'http://www.interactivedynamicvideo.com/',\n",
       "  '386',\n",
       "  '52',\n",
       "  'ne0phyte',\n",
       "  '8/4/2016 11:52'],\n",
       " ['10975351',\n",
       "  'How to Use Open Source and Shut the Fuck Up at the Same Time',\n",
       "  'http://hueniverse.com/2016/01/26/how-to-use-open-source-and-shut-the-fuck-up-at-the-same-time/',\n",
       "  '39',\n",
       "  '10',\n",
       "  'josep2',\n",
       "  '1/26/2016 19:30'],\n",
       " ['11964716',\n",
       "  \"Florida DJs May Face Felony for April Fools' Water Joke\",\n",
       "  'http://www.thewire.com/entertainment/2013/04/florida-djs-april-fools-water-joke/63798/',\n",
       "  '2',\n",
       "  '1',\n",
       "  'vezycash',\n",
       "  '6/23/2016 22:20'],\n",
       " ['11919867',\n",
       "  'Technology ventures: From Idea to Enterprise',\n",
       "  'https://www.amazon.com/Technology-Ventures-Enterprise-Thomas-Byers/dp/0073523429',\n",
       "  '3',\n",
       "  '1',\n",
       "  'hswarna',\n",
       "  '6/17/2016 0:01']]"
      ]
     },
     "execution_count": 1,
     "metadata": {},
     "output_type": "execute_result"
    }
   ],
   "source": [
    "# Read the data and display the first five rows\n",
    "import csv\n",
    "\n",
    "f = open('hacker_news.csv')\n",
    "hn = list(csv.reader(f))\n",
    "hn[:5]"
   ]
  },
  {
   "cell_type": "markdown",
   "id": "a949a8f4-0b18-4b30-88ef-d206c7569134",
   "metadata": {},
   "source": [
    "We can see that the first list contains the column headers, and the following lists contain the details of each post. We need to remove the row containing the column headers in order to analyze the data."
   ]
  },
  {
   "cell_type": "markdown",
   "id": "ca1d906d-7699-42ed-b204-5f5dec960ab4",
   "metadata": {},
   "source": [
    "# Removing The Header From A List of Lists"
   ]
  },
  {
   "cell_type": "code",
   "execution_count": 2,
   "id": "e7e599f9-4569-4ca6-853d-40429ea1a27d",
   "metadata": {},
   "outputs": [
    {
     "data": {
      "text/plain": [
       "['id', 'title', 'url', 'num_points', 'num_comments', 'author', 'created_at']"
      ]
     },
     "execution_count": 2,
     "metadata": {},
     "output_type": "execute_result"
    }
   ],
   "source": [
    "# Extract the first row of data\n",
    "headers = hn[0]\n",
    "headers"
   ]
  },
  {
   "cell_type": "code",
   "execution_count": 21,
   "id": "7e5419e4-471c-4e9b-b196-5cf8be7ebe3a",
   "metadata": {},
   "outputs": [
    {
     "data": {
      "text/plain": [
       "[['10975351',\n",
       "  'How to Use Open Source and Shut the Fuck Up at the Same Time',\n",
       "  'http://hueniverse.com/2016/01/26/how-to-use-open-source-and-shut-the-fuck-up-at-the-same-time/',\n",
       "  '39',\n",
       "  '10',\n",
       "  'josep2',\n",
       "  '1/26/2016 19:30'],\n",
       " ['11964716',\n",
       "  \"Florida DJs May Face Felony for April Fools' Water Joke\",\n",
       "  'http://www.thewire.com/entertainment/2013/04/florida-djs-april-fools-water-joke/63798/',\n",
       "  '2',\n",
       "  '1',\n",
       "  'vezycash',\n",
       "  '6/23/2016 22:20'],\n",
       " ['11919867',\n",
       "  'Technology ventures: From Idea to Enterprise',\n",
       "  'https://www.amazon.com/Technology-Ventures-Enterprise-Thomas-Byers/dp/0073523429',\n",
       "  '3',\n",
       "  '1',\n",
       "  'hswarna',\n",
       "  '6/17/2016 0:01'],\n",
       " ['10301696',\n",
       "  'Note by Note: The Making of Steinway L1037 (2007)',\n",
       "  'http://www.nytimes.com/2007/11/07/movies/07stein.html?_r=0',\n",
       "  '8',\n",
       "  '2',\n",
       "  'walterbell',\n",
       "  '9/30/2015 4:12'],\n",
       " ['10482257',\n",
       "  'Title II kills investment? Comcast and other ISPs are now spending more',\n",
       "  'http://arstechnica.com/business/2015/10/comcast-and-other-isps-boost-network-investment-despite-net-neutrality/',\n",
       "  '53',\n",
       "  '22',\n",
       "  'Deinos',\n",
       "  '10/31/2015 9:48']]"
      ]
     },
     "execution_count": 21,
     "metadata": {},
     "output_type": "execute_result"
    }
   ],
   "source": [
    "# Only contain the data without the header row\n",
    "hn = hn[1:]\n",
    "hn[:5] # Print 5 data"
   ]
  },
  {
   "cell_type": "markdown",
   "id": "8341aa89-fc5e-4a71-baf4-6df0659b5bdb",
   "metadata": {},
   "source": [
    "# Extracting Ask HN and Show HN Posts"
   ]
  },
  {
   "cell_type": "markdown",
   "id": "3829c4cf-ecdd-4064-ad0d-73a30f8dfd13",
   "metadata": {},
   "source": [
    "Now that we have removed the headers from `hn`, we can proceed to filter our data. We will create new lists of lists containing just the data for `Ask HN` and `Show HN`. To find the post that begin with either title, we'll use  the string method `startswith`."
   ]
  },
  {
   "cell_type": "code",
   "execution_count": 4,
   "id": "bdfe5734-afc6-4b0b-ba65-24af369d4452",
   "metadata": {},
   "outputs": [
    {
     "name": "stdout",
     "output_type": "stream",
     "text": [
      "The number of posts of those lists are: ask_posts is 1744, show_posts is 1162, and other posts is 17194\n"
     ]
    }
   ],
   "source": [
    "# Create three empty lists\n",
    "ask_posts = []\n",
    "show_posts = []\n",
    "other_posts = []\n",
    "\n",
    "# Loop the data and append to the lists above\n",
    "for row in hn:\n",
    "    title = row[1]\n",
    "    if title.lower().startswith('ask hn'):\n",
    "        ask_posts.append(row)\n",
    "    elif title.lower().startswith('show hn'):\n",
    "        show_posts.append(row)\n",
    "    else:\n",
    "        other_posts.append(row)\n",
    "        \n",
    "print('The number of posts of those lists are: ask_posts is {}, show_posts is {}, and other posts is {}'.format(len(ask_posts),len(show_posts),len(other_posts)))"
   ]
  },
  {
   "cell_type": "markdown",
   "id": "0ac78a99-6e6d-431f-9281-fdee5b1807f3",
   "metadata": {},
   "source": [
    "# Calculating the Average Number of Comments for Ask HN and Show HN Posts"
   ]
  },
  {
   "cell_type": "markdown",
   "id": "de0fd2e9-6719-464d-ae0c-52f020be38f7",
   "metadata": {},
   "source": [
    "We will calculate the average number of comments each post. How? We are going to sum total comments for both `Ask HN` and `Show HN`, and divide each particular sum with the number of posts for each `Ask HN` and `Show HN`."
   ]
  },
  {
   "cell_type": "code",
   "execution_count": 22,
   "id": "eb624cca-7ab9-4a6d-aa84-8616900ec843",
   "metadata": {},
   "outputs": [
    {
     "name": "stdout",
     "output_type": "stream",
     "text": [
      "14.038417431192661\n",
      "10.31669535283993\n"
     ]
    }
   ],
   "source": [
    "# Create a counter for the total number of ask comments\n",
    "total_ask_comments = 0\n",
    "\n",
    "# Loop to iterate over the ask posts and add total_ask_comments with number of comments for each post\n",
    "for row in ask_posts:\n",
    "    num_comments = int(row[4])\n",
    "    total_ask_comments += num_comments\n",
    "    \n",
    "avg_ask_comments = total_ask_comments / len(ask_posts)\n",
    "print(avg_ask_comments)\n",
    "\n",
    "# Create a counter for the total number of show comments \n",
    "total_show_comments = 0\n",
    "\n",
    "# Loop to iterate over the show posts and add total_show_comments with number of comments for each post\n",
    "for row in show_posts:\n",
    "    num_comments = int(row[4])\n",
    "    total_show_comments += num_comments\n",
    "    \n",
    "avg_show_comments = total_show_comments / len(show_posts)\n",
    "print(avg_show_comments)"
   ]
  },
  {
   "cell_type": "markdown",
   "id": "920d6a04-ba95-4009-a3e4-0fdc2ddcc5e1",
   "metadata": {},
   "source": [
    "From these calculations, we can determine that ask_posts (14) have more comments, on average, than show_posts (10.3)."
   ]
  },
  {
   "cell_type": "markdown",
   "id": "2f848d62-a58d-4dd6-a517-7c9645c6159d",
   "metadata": {},
   "source": [
    "# Finding the Number of Ask Posts and Comments by Hour Created"
   ]
  },
  {
   "cell_type": "markdown",
   "id": "8b25beca-97ba-4241-8593-c3bdc08edaec",
   "metadata": {},
   "source": [
    "Since we have determined that ask_posts have more comments, on average, then we will focus our analysis just on these posts. Next, we are going to determine if ask posts created at a certain time are more likely to attract comments. We'll do the following:\n",
    "\n",
    "1. Calculate the number of ask posts created in each hour of the day, along with the number of comments received.\n",
    "2. Calculate the average number of comments ask posts receive by hour created.\n",
    "\n",
    "We'll use the `datetime` module to work with the data in the `created_at` column."
   ]
  },
  {
   "cell_type": "code",
   "execution_count": 6,
   "id": "274cc567-f458-4b97-aad3-cc7dc3f085bb",
   "metadata": {},
   "outputs": [],
   "source": [
    "# Import the datetime module\n",
    "from datetime import datetime as dt\n",
    "\n",
    "# Iterate over ask_posts and append to a list\n",
    "result_list = []\n",
    "\n",
    "for row in ask_posts:\n",
    "    created_at = row[6]\n",
    "    num_comments = int(row[4])\n",
    "    \n",
    "    result_list.append([created_at, num_comments])\n",
    "    \n",
    "    counts_by_hour = {}\n",
    "    comments_by_hour = {}\n",
    "    \n",
    "    for row in result_list:\n",
    "        date = row[0]\n",
    "        comment = int(row[1])\n",
    "        hour = dt.strptime(date,'%m/%d/%Y %H:%M').strftime(\"%H\") # Create a datetime object and select just the hour\n",
    "        \n",
    "        if hour not in counts_by_hour: # Creating a dictionary key if the key is not yet present\n",
    "            counts_by_hour[hour] = 1\n",
    "            comments_by_hour[hour] = comment\n",
    "            \n",
    "        elif hour in counts_by_hour: # If it is, then add based on hour\n",
    "            counts_by_hour[hour] += 1\n",
    "            comments_by_hour[hour] += comment"
   ]
  },
  {
   "cell_type": "code",
   "execution_count": 7,
   "id": "fc0ea36e-27e6-41e4-93e6-8a96f0661d30",
   "metadata": {},
   "outputs": [
    {
     "data": {
      "text/plain": [
       "{'09': 251,\n",
       " '13': 1253,\n",
       " '10': 793,\n",
       " '14': 1416,\n",
       " '16': 1814,\n",
       " '23': 543,\n",
       " '12': 687,\n",
       " '17': 1146,\n",
       " '15': 4477,\n",
       " '21': 1745,\n",
       " '20': 1722,\n",
       " '02': 1381,\n",
       " '18': 1439,\n",
       " '03': 421,\n",
       " '05': 464,\n",
       " '19': 1188,\n",
       " '01': 683,\n",
       " '22': 479,\n",
       " '08': 492,\n",
       " '04': 337,\n",
       " '00': 447,\n",
       " '06': 397,\n",
       " '07': 267,\n",
       " '11': 641}"
      ]
     },
     "execution_count": 7,
     "metadata": {},
     "output_type": "execute_result"
    }
   ],
   "source": [
    "comments_by_hour"
   ]
  },
  {
   "cell_type": "markdown",
   "id": "a2908dd9-2199-4465-843e-68c214b24a4a",
   "metadata": {},
   "source": [
    "# Calculating the Average Number of Comments for Ask HN Posts by Hour"
   ]
  },
  {
   "cell_type": "markdown",
   "id": "82c612e8-92c4-42e6-8bc2-df9f3a48ce13",
   "metadata": {},
   "source": [
    "On the previous screen, we created two dictionaries:\n",
    "\n",
    "- `counts_by_hour`: contains the number of ask posts created each hour of the day\n",
    "- `comments_by_hour`: contains the corresponding number of comments ask posts created at each hour received\n",
    "\n",
    "Next, we'll use these two dictionaries to calculate the average number of comments for posts created during each hour of the day."
   ]
  },
  {
   "cell_type": "code",
   "execution_count": 8,
   "id": "25eb9955-4cc6-4d5c-99fd-b4d4d1b72e56",
   "metadata": {},
   "outputs": [],
   "source": [
    "avg_by_hour = []\n",
    "\n",
    "for hour in comments_by_hour:\n",
    "    avg_by_hour.append([hour, comments_by_hour[hour] / counts_by_hour[hour]])"
   ]
  },
  {
   "cell_type": "code",
   "execution_count": 9,
   "id": "b2c0f9a1-69c3-4341-b0a1-dc5f60dcc5f2",
   "metadata": {},
   "outputs": [
    {
     "data": {
      "text/plain": [
       "[['09', 5.5777777777777775],\n",
       " ['13', 14.741176470588234],\n",
       " ['10', 13.440677966101696],\n",
       " ['14', 13.233644859813085],\n",
       " ['16', 16.796296296296298],\n",
       " ['23', 7.985294117647059],\n",
       " ['12', 9.41095890410959],\n",
       " ['17', 11.46],\n",
       " ['15', 38.5948275862069],\n",
       " ['21', 16.009174311926607],\n",
       " ['20', 21.525],\n",
       " ['02', 23.810344827586206],\n",
       " ['18', 13.20183486238532],\n",
       " ['03', 7.796296296296297],\n",
       " ['05', 10.08695652173913],\n",
       " ['19', 10.8],\n",
       " ['01', 11.383333333333333],\n",
       " ['22', 6.746478873239437],\n",
       " ['08', 10.25],\n",
       " ['04', 7.170212765957447],\n",
       " ['00', 8.127272727272727],\n",
       " ['06', 9.022727272727273],\n",
       " ['07', 7.852941176470588],\n",
       " ['11', 11.051724137931034]]"
      ]
     },
     "execution_count": 9,
     "metadata": {},
     "output_type": "execute_result"
    }
   ],
   "source": [
    "avg_by_hour"
   ]
  },
  {
   "cell_type": "markdown",
   "id": "e31d5db5-5924-409b-8f8b-00fcacd0e75e",
   "metadata": {},
   "source": [
    "# Sorting and Printing Values from a List of Lists"
   ]
  },
  {
   "cell_type": "markdown",
   "id": "b2496991-d24c-4c16-9018-76f1c35b641c",
   "metadata": {},
   "source": [
    "Let us sort the avg_by_hour list and print the five highest values in a format that's easier to read."
   ]
  },
  {
   "cell_type": "code",
   "execution_count": 10,
   "id": "c8c57a5c-e3f8-432a-9ae6-a81c60f43d54",
   "metadata": {},
   "outputs": [
    {
     "name": "stdout",
     "output_type": "stream",
     "text": [
      "[[5.5777777777777775, '09'], [14.741176470588234, '13'], [13.440677966101696, '10'], [13.233644859813085, '14'], [16.796296296296298, '16'], [7.985294117647059, '23'], [9.41095890410959, '12'], [11.46, '17'], [38.5948275862069, '15'], [16.009174311926607, '21'], [21.525, '20'], [23.810344827586206, '02'], [13.20183486238532, '18'], [7.796296296296297, '03'], [10.08695652173913, '05'], [10.8, '19'], [11.383333333333333, '01'], [6.746478873239437, '22'], [10.25, '08'], [7.170212765957447, '04'], [8.127272727272727, '00'], [9.022727272727273, '06'], [7.852941176470588, '07'], [11.051724137931034, '11']]\n"
     ]
    }
   ],
   "source": [
    "swap_avg_by_hour = []\n",
    "\n",
    "for row in avg_by_hour:\n",
    "    swap_avg_by_hour.append([row[1], row[0]]) # Swap the elements in avg_by_hour\n",
    "    \n",
    "print(swap_avg_by_hour)"
   ]
  },
  {
   "cell_type": "code",
   "execution_count": 11,
   "id": "a47aff5b-1b1f-45b6-9ea7-9b2da6885393",
   "metadata": {},
   "outputs": [
    {
     "data": {
      "text/plain": [
       "[[38.5948275862069, '15'],\n",
       " [23.810344827586206, '02'],\n",
       " [21.525, '20'],\n",
       " [16.796296296296298, '16'],\n",
       " [16.009174311926607, '21'],\n",
       " [14.741176470588234, '13'],\n",
       " [13.440677966101696, '10'],\n",
       " [13.233644859813085, '14'],\n",
       " [13.20183486238532, '18'],\n",
       " [11.46, '17'],\n",
       " [11.383333333333333, '01'],\n",
       " [11.051724137931034, '11'],\n",
       " [10.8, '19'],\n",
       " [10.25, '08'],\n",
       " [10.08695652173913, '05'],\n",
       " [9.41095890410959, '12'],\n",
       " [9.022727272727273, '06'],\n",
       " [8.127272727272727, '00'],\n",
       " [7.985294117647059, '23'],\n",
       " [7.852941176470588, '07'],\n",
       " [7.796296296296297, '03'],\n",
       " [7.170212765957447, '04'],\n",
       " [6.746478873239437, '22'],\n",
       " [5.5777777777777775, '09']]"
      ]
     },
     "execution_count": 11,
     "metadata": {},
     "output_type": "execute_result"
    }
   ],
   "source": [
    "sorted_swap = sorted(swap_avg_by_hour, reverse=True)\n",
    "sorted_swap"
   ]
  },
  {
   "cell_type": "code",
   "execution_count": 12,
   "id": "d7fd0e9d-7ab3-4478-a93c-621f53379420",
   "metadata": {},
   "outputs": [
    {
     "name": "stdout",
     "output_type": "stream",
     "text": [
      "Top 5 Hours for Ask Posts Comments\n",
      "15:00: 38.59 average comments per post\n",
      "02:00: 23.81 average comments per post\n",
      "20:00: 21.52 average comments per post\n",
      "16:00: 16.80 average comments per post\n",
      "21:00: 16.01 average comments per post\n"
     ]
    }
   ],
   "source": [
    "print(\"Top 5 Hours for Ask Posts Comments\")\n",
    "\n",
    "for avg, hr in sorted_swap[:5]:\n",
    "    hour = dt.strptime(hr, '%H').strftime('%H:%M')\n",
    "    print('{}: {:.2f} average comments per post'.format(dt.strptime(hr, '%H').strftime('%H:%M'), avg))"
   ]
  },
  {
   "cell_type": "markdown",
   "id": "dad03a76-3ac0-4141-945e-d1fc4a642e71",
   "metadata": {},
   "source": [
    "Therefore, we can conclude that `Ask HN` posts stand the best chance of receiving more comments when posted at 3:00 PM. The difference is substantial. Posting an `Ask HN` post at 3:00 PM is likely to attract 60% more comments per post than posting at 2:00 AM, the second-highest period for comments on average."
   ]
  },
  {
   "cell_type": "markdown",
   "id": "c52fb7e9-df97-4e8d-888a-c9e4aaf77374",
   "metadata": {},
   "source": [
    "# Determining Whether Show or Ask Posts Receive More Points On Average"
   ]
  },
  {
   "cell_type": "markdown",
   "id": "41ef5155-fc66-44f3-a266-a1e4d5f58635",
   "metadata": {},
   "source": [
    "Now that we've established that, on average, `Ask HN` posts receive more comments than `Show HN` posts, let's explore which type of posts garner a higher average number of points per post. Let's delve into that!"
   ]
  },
  {
   "cell_type": "code",
   "execution_count": 13,
   "id": "a7e7ee6c-5294-4d05-b5a5-2721668b6efc",
   "metadata": {},
   "outputs": [
    {
     "name": "stdout",
     "output_type": "stream",
     "text": [
      "Total point for ask posts is 15.061926605504587 and show posts is 27.555077452667813\n"
     ]
    }
   ],
   "source": [
    "# Calculating total points for ask posts\n",
    "total_ask_pts = 0\n",
    "\n",
    "for row in ask_posts:\n",
    "    pts = int(row[3]) # Make it an integer\n",
    "    total_ask_pts += pts\n",
    "    \n",
    "avg_ask_pts = total_ask_pts / len(ask_posts)\n",
    "\n",
    "# Calculating total points for show posts\n",
    "total_show_pts = 0\n",
    "\n",
    "for row in show_posts:\n",
    "    pts = int(row[3])\n",
    "    total_show_pts += pts\n",
    "    \n",
    "avg_show_pts = total_show_pts / len(show_posts)\n",
    "    \n",
    "print(\"Total point for ask posts is {} and show posts is {}\".format(avg_ask_pts, avg_show_pts))"
   ]
  },
  {
   "cell_type": "markdown",
   "id": "f09239da-420f-4c0b-9cd1-962dbe0b5b2f",
   "metadata": {},
   "source": [
    "Since `Show HN` posts receive more points, on average, than `Ask HN` posts, we are going to focus on `Show HN` posts. In the next section, we are going to determine if posts created at a certain time are more likely to receive more points. The process will similar to what we did earlier."
   ]
  },
  {
   "cell_type": "code",
   "execution_count": 23,
   "id": "996f9019-dac4-41e5-b9da-034e121210ee",
   "metadata": {},
   "outputs": [],
   "source": [
    "# Iterate over show_posts and append it to a list\n",
    "result_list = []\n",
    "\n",
    "for row in show_posts:\n",
    "    created_at = row[6]\n",
    "    num_pts = int(row[3])\n",
    "    result_list.append([created_at, num_pts])\n",
    "    \n",
    "    counts_by_hour = {}\n",
    "    pts_by_hour = {}\n",
    "    \n",
    "    for row in result_list:\n",
    "        date = row[0]\n",
    "        pts = int(row[1])\n",
    "        hour = dt.strptime(date, '%m/%d/%Y %H:%M').strftime('%H')\n",
    "        \n",
    "        if hour not in counts_by_hour:\n",
    "            counts_by_hour[hour] = 1\n",
    "            pts_by_hour[hour] = pts\n",
    "            \n",
    "        elif hour in counts_by_hour:\n",
    "            counts_by_hour[hour] += 1\n",
    "            pts_by_hour[hour] += pts"
   ]
  },
  {
   "cell_type": "code",
   "execution_count": 15,
   "id": "95c7e4cc-9a2a-4778-af8d-3f9d7d71f5a3",
   "metadata": {},
   "outputs": [
    {
     "data": {
      "text/plain": [
       "{'14': 2187,\n",
       " '22': 1856,\n",
       " '18': 2215,\n",
       " '07': 494,\n",
       " '20': 1819,\n",
       " '05': 104,\n",
       " '16': 2634,\n",
       " '19': 1702,\n",
       " '15': 2228,\n",
       " '03': 679,\n",
       " '17': 2521,\n",
       " '06': 375,\n",
       " '02': 340,\n",
       " '13': 2438,\n",
       " '08': 519,\n",
       " '21': 866,\n",
       " '04': 386,\n",
       " '11': 1480,\n",
       " '12': 2543,\n",
       " '23': 1526,\n",
       " '09': 553,\n",
       " '01': 700,\n",
       " '10': 681,\n",
       " '00': 1173}"
      ]
     },
     "execution_count": 15,
     "metadata": {},
     "output_type": "execute_result"
    }
   ],
   "source": [
    "pts_by_hour"
   ]
  },
  {
   "cell_type": "markdown",
   "id": "829d59ac-e7df-4dab-aecc-db3613d5ac98",
   "metadata": {},
   "source": [
    "Now, we are going to calculate the average pts per hour, swap it, and sort the list."
   ]
  },
  {
   "cell_type": "code",
   "execution_count": 24,
   "id": "df1234fd-885d-42cf-862c-3d785e45d6bd",
   "metadata": {},
   "outputs": [],
   "source": [
    "# Calculate total pts for each hour and divide it by total number of post in that hour\n",
    "avg_pts_by_hour = []\n",
    "\n",
    "for hour in counts_by_hour:\n",
    "    avg_pts_by_hour.append([hour, pts_by_hour[hour] / counts_by_hour[hour]])"
   ]
  },
  {
   "cell_type": "code",
   "execution_count": 17,
   "id": "aefb3677-ab99-435e-81ed-c810e22eaf12",
   "metadata": {},
   "outputs": [
    {
     "data": {
      "text/plain": [
       "[['14', 25.430232558139537],\n",
       " ['22', 40.34782608695652],\n",
       " ['18', 36.31147540983606],\n",
       " ['07', 19.0],\n",
       " ['20', 30.316666666666666],\n",
       " ['05', 5.473684210526316],\n",
       " ['16', 28.322580645161292],\n",
       " ['19', 30.945454545454545],\n",
       " ['15', 28.564102564102566],\n",
       " ['03', 25.14814814814815],\n",
       " ['17', 27.107526881720432],\n",
       " ['06', 23.4375],\n",
       " ['02', 11.333333333333334],\n",
       " ['13', 24.626262626262626],\n",
       " ['08', 15.264705882352942],\n",
       " ['21', 18.425531914893618],\n",
       " ['04', 14.846153846153847],\n",
       " ['11', 33.63636363636363],\n",
       " ['12', 41.68852459016394],\n",
       " ['23', 42.388888888888886],\n",
       " ['09', 18.433333333333334],\n",
       " ['01', 25.0],\n",
       " ['10', 18.916666666666668],\n",
       " ['00', 37.83870967741935]]"
      ]
     },
     "execution_count": 17,
     "metadata": {},
     "output_type": "execute_result"
    }
   ],
   "source": [
    "avg_pts_by_hour"
   ]
  },
  {
   "cell_type": "code",
   "execution_count": 25,
   "id": "4f4f65ee-7a5b-4e22-8fd8-c14e4e77b69d",
   "metadata": {},
   "outputs": [],
   "source": [
    "# Swap the list and sort the date\n",
    "swap_pts_by_hour = []\n",
    "\n",
    "for row in avg_pts_by_hour:\n",
    "    swap_pts_by_hour.append([row[1], row[0]])"
   ]
  },
  {
   "cell_type": "code",
   "execution_count": 19,
   "id": "0077395e-3671-4bc8-ada9-c9fbe7e0a093",
   "metadata": {},
   "outputs": [
    {
     "data": {
      "text/plain": [
       "[[42.388888888888886, '23'],\n",
       " [41.68852459016394, '12'],\n",
       " [40.34782608695652, '22'],\n",
       " [37.83870967741935, '00'],\n",
       " [36.31147540983606, '18'],\n",
       " [33.63636363636363, '11'],\n",
       " [30.945454545454545, '19'],\n",
       " [30.316666666666666, '20'],\n",
       " [28.564102564102566, '15'],\n",
       " [28.322580645161292, '16'],\n",
       " [27.107526881720432, '17'],\n",
       " [25.430232558139537, '14'],\n",
       " [25.14814814814815, '03'],\n",
       " [25.0, '01'],\n",
       " [24.626262626262626, '13'],\n",
       " [23.4375, '06'],\n",
       " [19.0, '07'],\n",
       " [18.916666666666668, '10'],\n",
       " [18.433333333333334, '09'],\n",
       " [18.425531914893618, '21'],\n",
       " [15.264705882352942, '08'],\n",
       " [14.846153846153847, '04'],\n",
       " [11.333333333333334, '02'],\n",
       " [5.473684210526316, '05']]"
      ]
     },
     "execution_count": 19,
     "metadata": {},
     "output_type": "execute_result"
    }
   ],
   "source": [
    "sorted_swap_pts = sorted(swap_pts_by_hour, reverse=True)\n",
    "sorted_swap_pts"
   ]
  },
  {
   "cell_type": "markdown",
   "id": "9f4dc9cd-6bad-40a6-86f8-b0f6a58970c8",
   "metadata": {},
   "source": [
    "Now, we are going to print out the top 5 hour based on the average number of points in that particular hour."
   ]
  },
  {
   "cell_type": "code",
   "execution_count": 20,
   "id": "daeb3712-c562-44e9-a851-2cfa7dc81409",
   "metadata": {},
   "outputs": [
    {
     "name": "stdout",
     "output_type": "stream",
     "text": [
      "Top 5 Hours for Show Posts Points\n",
      "23:00: 42.39 average points per post\n",
      "12:00: 41.69 average points per post\n",
      "22:00: 40.35 average points per post\n",
      "00:00: 37.84 average points per post\n",
      "18:00: 36.31 average points per post\n"
     ]
    }
   ],
   "source": [
    "print(\"Top 5 Hours for Show Posts Points\")\n",
    "\n",
    "for avg, hr in sorted_swap_pts[:5]:\n",
    "    hour = dt.strptime(hr, '%H').strftime('%H:%M')\n",
    "    print('{}: {:.2f} average points per post'.format(dt.strptime(hr, '%H').strftime('%H:%M'), avg))"
   ]
  },
  {
   "cell_type": "markdown",
   "id": "c1e09f2d-4d9a-4d6a-b564-f69beff0fd8e",
   "metadata": {},
   "source": [
    "The above result indicates that posting `Show HN` posts at 23:00 or 11 PM has a higher chance of garnering more points per post than at any other time during the day.\n",
    "\n",
    "In summary, based on these analyses, we have learned that `Ask HN` posts generally receive a higher average of points than show posts. Conversely, `Show HN` posts accrue a higher average of points per post than ask posts. \n",
    "\n",
    "Unlike comments on ask posts, where posting at 3 PM attracts 60% more comments than the second-highest comment per post, the top 5 show posts' points don't exhibit much difference. However, the pattern suggests that you are more likely to receive more points in the evening."
   ]
  }
 ],
 "metadata": {
  "kernelspec": {
   "display_name": "Python 3 (ipykernel)",
   "language": "python",
   "name": "python3"
  },
  "language_info": {
   "codemirror_mode": {
    "name": "ipython",
    "version": 3
   },
   "file_extension": ".py",
   "mimetype": "text/x-python",
   "name": "python",
   "nbconvert_exporter": "python",
   "pygments_lexer": "ipython3",
   "version": "3.9.12"
  }
 },
 "nbformat": 4,
 "nbformat_minor": 5
}
